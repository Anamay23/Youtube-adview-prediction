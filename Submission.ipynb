{
 "cells": [
  {
   "cell_type": "code",
   "execution_count": 1,
   "metadata": {},
   "outputs": [
    {
     "name": "stderr",
     "output_type": "stream",
     "text": [
      "Using TensorFlow backend.\n"
     ]
    }
   ],
   "source": [
    "#Imported required libraries \n",
    "\n",
    "import numpy as np \n",
    "import pandas as pd\n",
    "from sklearn.preprocessing import LabelEncoder\n",
    "import matplotlib.pyplot as plt\n",
    "import matplotlib.cm as cm\n",
    "from sklearn.model_selection import train_test_split\n",
    "import seaborn as sns\n",
    "from sklearn.preprocessing import MinMaxScaler\n",
    "from sklearn import metrics\n",
    "from sklearn.metrics import f1_score\n",
    "import keras\n",
    "import tensorflow\n",
    "from tensorflow.keras import models\n",
    "from tensorflow.keras import Sequential\n",
    "from tensorflow.keras.layers import Input, Dense, Dropout, Activation, Flatten\n",
    "from tensorflow.keras.optimizers import Adam, RMSprop"
   ]
  },
  {
   "cell_type": "markdown",
   "metadata": {},
   "source": [
    "## TRAINING THE MODEL"
   ]
  },
  {
   "cell_type": "markdown",
   "metadata": {},
   "source": [
    "### Data Preprocessing "
   ]
  },
  {
   "cell_type": "code",
   "execution_count": 2,
   "metadata": {},
   "outputs": [],
   "source": [
    "path = \"D:\\Other\\Internship Studio\\Project\\\\\""
   ]
  },
  {
   "cell_type": "code",
   "execution_count": 3,
   "metadata": {},
   "outputs": [],
   "source": [
    "data = pd.read_csv(path + \"train.csv\")"
   ]
  },
  {
   "cell_type": "code",
   "execution_count": 4,
   "metadata": {},
   "outputs": [
    {
     "data": {
      "text/html": [
       "<div>\n",
       "<style scoped>\n",
       "    .dataframe tbody tr th:only-of-type {\n",
       "        vertical-align: middle;\n",
       "    }\n",
       "\n",
       "    .dataframe tbody tr th {\n",
       "        vertical-align: top;\n",
       "    }\n",
       "\n",
       "    .dataframe thead th {\n",
       "        text-align: right;\n",
       "    }\n",
       "</style>\n",
       "<table border=\"1\" class=\"dataframe\">\n",
       "  <thead>\n",
       "    <tr style=\"text-align: right;\">\n",
       "      <th></th>\n",
       "      <th>vidid</th>\n",
       "      <th>adview</th>\n",
       "      <th>views</th>\n",
       "      <th>likes</th>\n",
       "      <th>dislikes</th>\n",
       "      <th>comment</th>\n",
       "      <th>published</th>\n",
       "      <th>duration</th>\n",
       "      <th>category</th>\n",
       "    </tr>\n",
       "  </thead>\n",
       "  <tbody>\n",
       "    <tr>\n",
       "      <td>0</td>\n",
       "      <td>VID_18655</td>\n",
       "      <td>40</td>\n",
       "      <td>1031602</td>\n",
       "      <td>8523</td>\n",
       "      <td>363</td>\n",
       "      <td>1095</td>\n",
       "      <td>2016-09-14</td>\n",
       "      <td>PT7M37S</td>\n",
       "      <td>F</td>\n",
       "    </tr>\n",
       "    <tr>\n",
       "      <td>1</td>\n",
       "      <td>VID_14135</td>\n",
       "      <td>2</td>\n",
       "      <td>1707</td>\n",
       "      <td>56</td>\n",
       "      <td>2</td>\n",
       "      <td>6</td>\n",
       "      <td>2016-10-01</td>\n",
       "      <td>PT9M30S</td>\n",
       "      <td>D</td>\n",
       "    </tr>\n",
       "    <tr>\n",
       "      <td>2</td>\n",
       "      <td>VID_2187</td>\n",
       "      <td>1</td>\n",
       "      <td>2023</td>\n",
       "      <td>25</td>\n",
       "      <td>0</td>\n",
       "      <td>2</td>\n",
       "      <td>2016-07-02</td>\n",
       "      <td>PT2M16S</td>\n",
       "      <td>C</td>\n",
       "    </tr>\n",
       "    <tr>\n",
       "      <td>3</td>\n",
       "      <td>VID_23096</td>\n",
       "      <td>6</td>\n",
       "      <td>620860</td>\n",
       "      <td>777</td>\n",
       "      <td>161</td>\n",
       "      <td>153</td>\n",
       "      <td>2016-07-27</td>\n",
       "      <td>PT4M22S</td>\n",
       "      <td>H</td>\n",
       "    </tr>\n",
       "    <tr>\n",
       "      <td>4</td>\n",
       "      <td>VID_10175</td>\n",
       "      <td>1</td>\n",
       "      <td>666</td>\n",
       "      <td>1</td>\n",
       "      <td>0</td>\n",
       "      <td>0</td>\n",
       "      <td>2016-06-29</td>\n",
       "      <td>PT31S</td>\n",
       "      <td>D</td>\n",
       "    </tr>\n",
       "  </tbody>\n",
       "</table>\n",
       "</div>"
      ],
      "text/plain": [
       "       vidid  adview    views likes dislikes comment   published duration  \\\n",
       "0  VID_18655      40  1031602  8523      363    1095  2016-09-14  PT7M37S   \n",
       "1  VID_14135       2     1707    56        2       6  2016-10-01  PT9M30S   \n",
       "2   VID_2187       1     2023    25        0       2  2016-07-02  PT2M16S   \n",
       "3  VID_23096       6   620860   777      161     153  2016-07-27  PT4M22S   \n",
       "4  VID_10175       1      666     1        0       0  2016-06-29    PT31S   \n",
       "\n",
       "  category  \n",
       "0        F  \n",
       "1        D  \n",
       "2        C  \n",
       "3        H  \n",
       "4        D  "
      ]
     },
     "execution_count": 4,
     "metadata": {},
     "output_type": "execute_result"
    }
   ],
   "source": [
    "data.head()"
   ]
  },
  {
   "cell_type": "code",
   "execution_count": 5,
   "metadata": {},
   "outputs": [
    {
     "data": {
      "text/plain": [
       "(14999, 9)"
      ]
     },
     "execution_count": 5,
     "metadata": {},
     "output_type": "execute_result"
    }
   ],
   "source": [
    "#View the shape of the csv file\n",
    "data.shape"
   ]
  },
  {
   "cell_type": "code",
   "execution_count": 6,
   "metadata": {},
   "outputs": [],
   "source": [
    "#Convert the data in the category column to numerical form by mapping each unique letter to a number\n",
    "\n",
    "category = {'A':1, 'B':2, 'C':3, 'D':4, 'E':5, 'F':6, 'G':7, 'H':8}\n",
    "data[\"category\"] = data[\"category\"].map(category)"
   ]
  },
  {
   "cell_type": "code",
   "execution_count": 7,
   "metadata": {},
   "outputs": [
    {
     "data": {
      "text/plain": [
       "0        6\n",
       "1        4\n",
       "2        3\n",
       "3        8\n",
       "4        4\n",
       "        ..\n",
       "14994    1\n",
       "14995    4\n",
       "14996    2\n",
       "14997    7\n",
       "14998    4\n",
       "Name: category, Length: 14999, dtype: int64"
      ]
     },
     "execution_count": 7,
     "metadata": {},
     "output_type": "execute_result"
    }
   ],
   "source": [
    "data.category"
   ]
  },
  {
   "cell_type": "code",
   "execution_count": 8,
   "metadata": {},
   "outputs": [],
   "source": [
    "#Removing non-numerical entries from 4 columns \n",
    "\n",
    "data = data[data.views!='F']\n",
    "data = data[data.likes!='F']\n",
    "data = data[data.dislikes!='F']\n",
    "data = data[data.comment!='F']"
   ]
  },
  {
   "cell_type": "code",
   "execution_count": 9,
   "metadata": {},
   "outputs": [],
   "source": [
    "#Converting the cells from str to numerical values\n",
    "\n",
    "data[\"views\"] = pd.to_numeric(data[\"views\"])\n",
    "data[\"likes\"] = pd.to_numeric(data[\"likes\"])\n",
    "data[\"dislikes\"] = pd.to_numeric(data[\"dislikes\"])\n",
    "data[\"comment\"] = pd.to_numeric(data[\"comment\"])\n",
    "data[\"adview\"] = pd.to_numeric(data[\"adview\"])"
   ]
  },
  {
   "cell_type": "code",
   "execution_count": 10,
   "metadata": {},
   "outputs": [
    {
     "data": {
      "text/plain": [
       "(14637, 9)"
      ]
     },
     "execution_count": 10,
     "metadata": {},
     "output_type": "execute_result"
    }
   ],
   "source": [
    "data.shape"
   ]
  },
  {
   "cell_type": "code",
   "execution_count": 11,
   "metadata": {},
   "outputs": [],
   "source": [
    "#Transform the values of 3 columns from str to numerical, where LabelEncoder assigns it a numerical value\n",
    "\n",
    "data['duration'] = LabelEncoder().fit_transform(data['duration'])\n",
    "data['vidid'] = LabelEncoder().fit_transform(data['vidid'])\n",
    "data['published'] = LabelEncoder().fit_transform(data['published'])"
   ]
  },
  {
   "cell_type": "code",
   "execution_count": 12,
   "metadata": {},
   "outputs": [
    {
     "data": {
      "text/html": [
       "<div>\n",
       "<style scoped>\n",
       "    .dataframe tbody tr th:only-of-type {\n",
       "        vertical-align: middle;\n",
       "    }\n",
       "\n",
       "    .dataframe tbody tr th {\n",
       "        vertical-align: top;\n",
       "    }\n",
       "\n",
       "    .dataframe thead th {\n",
       "        text-align: right;\n",
       "    }\n",
       "</style>\n",
       "<table border=\"1\" class=\"dataframe\">\n",
       "  <thead>\n",
       "    <tr style=\"text-align: right;\">\n",
       "      <th></th>\n",
       "      <th>vidid</th>\n",
       "      <th>adview</th>\n",
       "      <th>views</th>\n",
       "      <th>likes</th>\n",
       "      <th>dislikes</th>\n",
       "      <th>comment</th>\n",
       "      <th>published</th>\n",
       "      <th>duration</th>\n",
       "      <th>category</th>\n",
       "    </tr>\n",
       "  </thead>\n",
       "  <tbody>\n",
       "    <tr>\n",
       "      <td>0</td>\n",
       "      <td>5912</td>\n",
       "      <td>40</td>\n",
       "      <td>1031602</td>\n",
       "      <td>8523</td>\n",
       "      <td>363</td>\n",
       "      <td>1095</td>\n",
       "      <td>2168</td>\n",
       "      <td>2925</td>\n",
       "      <td>6</td>\n",
       "    </tr>\n",
       "    <tr>\n",
       "      <td>1</td>\n",
       "      <td>2741</td>\n",
       "      <td>2</td>\n",
       "      <td>1707</td>\n",
       "      <td>56</td>\n",
       "      <td>2</td>\n",
       "      <td>6</td>\n",
       "      <td>2185</td>\n",
       "      <td>3040</td>\n",
       "      <td>4</td>\n",
       "    </tr>\n",
       "    <tr>\n",
       "      <td>2</td>\n",
       "      <td>8138</td>\n",
       "      <td>1</td>\n",
       "      <td>2023</td>\n",
       "      <td>25</td>\n",
       "      <td>0</td>\n",
       "      <td>2</td>\n",
       "      <td>2094</td>\n",
       "      <td>1863</td>\n",
       "      <td>3</td>\n",
       "    </tr>\n",
       "    <tr>\n",
       "      <td>3</td>\n",
       "      <td>9005</td>\n",
       "      <td>6</td>\n",
       "      <td>620860</td>\n",
       "      <td>777</td>\n",
       "      <td>161</td>\n",
       "      <td>153</td>\n",
       "      <td>2119</td>\n",
       "      <td>2546</td>\n",
       "      <td>8</td>\n",
       "    </tr>\n",
       "    <tr>\n",
       "      <td>4</td>\n",
       "      <td>122</td>\n",
       "      <td>1</td>\n",
       "      <td>666</td>\n",
       "      <td>1</td>\n",
       "      <td>0</td>\n",
       "      <td>0</td>\n",
       "      <td>2091</td>\n",
       "      <td>1963</td>\n",
       "      <td>4</td>\n",
       "    </tr>\n",
       "  </tbody>\n",
       "</table>\n",
       "</div>"
      ],
      "text/plain": [
       "   vidid  adview    views  likes  dislikes  comment  published  duration  \\\n",
       "0   5912      40  1031602   8523       363     1095       2168      2925   \n",
       "1   2741       2     1707     56         2        6       2185      3040   \n",
       "2   8138       1     2023     25         0        2       2094      1863   \n",
       "3   9005       6   620860    777       161      153       2119      2546   \n",
       "4    122       1      666      1         0        0       2091      1963   \n",
       "\n",
       "   category  \n",
       "0         6  \n",
       "1         4  \n",
       "2         3  \n",
       "3         8  \n",
       "4         4  "
      ]
     },
     "execution_count": 12,
     "metadata": {},
     "output_type": "execute_result"
    }
   ],
   "source": [
    "data.head()"
   ]
  },
  {
   "cell_type": "code",
   "execution_count": 13,
   "metadata": {},
   "outputs": [],
   "source": [
    "import datetime\n",
    "import time"
   ]
  },
  {
   "cell_type": "code",
   "execution_count": 14,
   "metadata": {},
   "outputs": [],
   "source": [
    "#Write a function to convert the values of duration to the number of seconds \n",
    "\n",
    "def checki(x):\n",
    "    y = x[2:]\n",
    "    h = ''\n",
    "    m = ''\n",
    "    s = ''\n",
    "    mm = ''\n",
    "    P = ['H', 'M', 'S']\n",
    "    for i in y:\n",
    "        if i not in P:\n",
    "            mm += i\n",
    "        else:\n",
    "            if (i=='H'):\n",
    "                h = mm\n",
    "                mm = ''\n",
    "            elif (i=='M'):\n",
    "                m = mm\n",
    "                mm = ''\n",
    "            else: \n",
    "                s = mm\n",
    "                mm = ''\n",
    "    if (h==''):\n",
    "        h = '00'\n",
    "    if (m==''):\n",
    "        m = '00'\n",
    "    if (s==''):\n",
    "        s = '00'\n",
    "    bp = h + ':' + m + ':' + s\n",
    "    return bp\n",
    "\n",
    "train = pd.read_csv(\"train.csv\")\n",
    "mp = pd.read_csv(path + \"train.csv\")[\"duration\"]\n",
    "time = mp.apply(checki)\n",
    "\n",
    "def func_sec(time_string):\n",
    "    h, m, s = time_string.split(':')\n",
    "    return int(h) * 3600 + int(m) * 60 + int(s) "
   ]
  },
  {
   "cell_type": "code",
   "execution_count": 15,
   "metadata": {},
   "outputs": [],
   "source": [
    "time1 = time.apply(func_sec)"
   ]
  },
  {
   "cell_type": "code",
   "execution_count": 16,
   "metadata": {},
   "outputs": [
    {
     "data": {
      "text/html": [
       "<div>\n",
       "<style scoped>\n",
       "    .dataframe tbody tr th:only-of-type {\n",
       "        vertical-align: middle;\n",
       "    }\n",
       "\n",
       "    .dataframe tbody tr th {\n",
       "        vertical-align: top;\n",
       "    }\n",
       "\n",
       "    .dataframe thead th {\n",
       "        text-align: right;\n",
       "    }\n",
       "</style>\n",
       "<table border=\"1\" class=\"dataframe\">\n",
       "  <thead>\n",
       "    <tr style=\"text-align: right;\">\n",
       "      <th></th>\n",
       "      <th>vidid</th>\n",
       "      <th>adview</th>\n",
       "      <th>views</th>\n",
       "      <th>likes</th>\n",
       "      <th>dislikes</th>\n",
       "      <th>comment</th>\n",
       "      <th>published</th>\n",
       "      <th>duration</th>\n",
       "      <th>category</th>\n",
       "    </tr>\n",
       "  </thead>\n",
       "  <tbody>\n",
       "    <tr>\n",
       "      <td>0</td>\n",
       "      <td>5912</td>\n",
       "      <td>40</td>\n",
       "      <td>1031602</td>\n",
       "      <td>8523</td>\n",
       "      <td>363</td>\n",
       "      <td>1095</td>\n",
       "      <td>2168</td>\n",
       "      <td>457</td>\n",
       "      <td>6</td>\n",
       "    </tr>\n",
       "    <tr>\n",
       "      <td>1</td>\n",
       "      <td>2741</td>\n",
       "      <td>2</td>\n",
       "      <td>1707</td>\n",
       "      <td>56</td>\n",
       "      <td>2</td>\n",
       "      <td>6</td>\n",
       "      <td>2185</td>\n",
       "      <td>570</td>\n",
       "      <td>4</td>\n",
       "    </tr>\n",
       "    <tr>\n",
       "      <td>2</td>\n",
       "      <td>8138</td>\n",
       "      <td>1</td>\n",
       "      <td>2023</td>\n",
       "      <td>25</td>\n",
       "      <td>0</td>\n",
       "      <td>2</td>\n",
       "      <td>2094</td>\n",
       "      <td>136</td>\n",
       "      <td>3</td>\n",
       "    </tr>\n",
       "    <tr>\n",
       "      <td>3</td>\n",
       "      <td>9005</td>\n",
       "      <td>6</td>\n",
       "      <td>620860</td>\n",
       "      <td>777</td>\n",
       "      <td>161</td>\n",
       "      <td>153</td>\n",
       "      <td>2119</td>\n",
       "      <td>262</td>\n",
       "      <td>8</td>\n",
       "    </tr>\n",
       "    <tr>\n",
       "      <td>4</td>\n",
       "      <td>122</td>\n",
       "      <td>1</td>\n",
       "      <td>666</td>\n",
       "      <td>1</td>\n",
       "      <td>0</td>\n",
       "      <td>0</td>\n",
       "      <td>2091</td>\n",
       "      <td>31</td>\n",
       "      <td>4</td>\n",
       "    </tr>\n",
       "  </tbody>\n",
       "</table>\n",
       "</div>"
      ],
      "text/plain": [
       "   vidid  adview    views  likes  dislikes  comment  published  duration  \\\n",
       "0   5912      40  1031602   8523       363     1095       2168       457   \n",
       "1   2741       2     1707     56         2        6       2185       570   \n",
       "2   8138       1     2023     25         0        2       2094       136   \n",
       "3   9005       6   620860    777       161      153       2119       262   \n",
       "4    122       1      666      1         0        0       2091        31   \n",
       "\n",
       "   category  \n",
       "0         6  \n",
       "1         4  \n",
       "2         3  \n",
       "3         8  \n",
       "4         4  "
      ]
     },
     "execution_count": 16,
     "metadata": {},
     "output_type": "execute_result"
    }
   ],
   "source": [
    "#Duration now contains numerical values in terms of number of seconds\n",
    "\n",
    "data['duration'] = time1\n",
    "data.head()"
   ]
  },
  {
   "cell_type": "code",
   "execution_count": 17,
   "metadata": {},
   "outputs": [
    {
     "data": {
      "text/html": [
       "<div>\n",
       "<style scoped>\n",
       "    .dataframe tbody tr th:only-of-type {\n",
       "        vertical-align: middle;\n",
       "    }\n",
       "\n",
       "    .dataframe tbody tr th {\n",
       "        vertical-align: top;\n",
       "    }\n",
       "\n",
       "    .dataframe thead th {\n",
       "        text-align: right;\n",
       "    }\n",
       "</style>\n",
       "<table border=\"1\" class=\"dataframe\">\n",
       "  <thead>\n",
       "    <tr style=\"text-align: right;\">\n",
       "      <th></th>\n",
       "      <th>vidid</th>\n",
       "      <th>adview</th>\n",
       "      <th>views</th>\n",
       "      <th>likes</th>\n",
       "      <th>dislikes</th>\n",
       "      <th>comment</th>\n",
       "      <th>published</th>\n",
       "      <th>duration</th>\n",
       "      <th>category</th>\n",
       "    </tr>\n",
       "  </thead>\n",
       "  <tbody>\n",
       "    <tr>\n",
       "      <td>count</td>\n",
       "      <td>14637.00000</td>\n",
       "      <td>1.463700e+04</td>\n",
       "      <td>1.463700e+04</td>\n",
       "      <td>14637.000000</td>\n",
       "      <td>14637.000000</td>\n",
       "      <td>14637.000000</td>\n",
       "      <td>14637.000000</td>\n",
       "      <td>14637.000000</td>\n",
       "      <td>14637.000000</td>\n",
       "    </tr>\n",
       "    <tr>\n",
       "      <td>mean</td>\n",
       "      <td>7318.00000</td>\n",
       "      <td>2.066030e+03</td>\n",
       "      <td>7.112280e+05</td>\n",
       "      <td>2785.841293</td>\n",
       "      <td>254.429391</td>\n",
       "      <td>409.135547</td>\n",
       "      <td>1547.372754</td>\n",
       "      <td>1040.179067</td>\n",
       "      <td>4.607228</td>\n",
       "    </tr>\n",
       "    <tr>\n",
       "      <td>std</td>\n",
       "      <td>4225.48228</td>\n",
       "      <td>5.282706e+04</td>\n",
       "      <td>2.731475e+06</td>\n",
       "      <td>8938.490736</td>\n",
       "      <td>1029.774864</td>\n",
       "      <td>1511.176934</td>\n",
       "      <td>582.911556</td>\n",
       "      <td>2316.818747</td>\n",
       "      <td>1.576312</td>\n",
       "    </tr>\n",
       "    <tr>\n",
       "      <td>min</td>\n",
       "      <td>0.00000</td>\n",
       "      <td>1.000000e+00</td>\n",
       "      <td>4.900000e+01</td>\n",
       "      <td>0.000000</td>\n",
       "      <td>0.000000</td>\n",
       "      <td>0.000000</td>\n",
       "      <td>0.000000</td>\n",
       "      <td>0.000000</td>\n",
       "      <td>1.000000</td>\n",
       "    </tr>\n",
       "    <tr>\n",
       "      <td>25%</td>\n",
       "      <td>3659.00000</td>\n",
       "      <td>1.000000e+00</td>\n",
       "      <td>3.151700e+04</td>\n",
       "      <td>88.000000</td>\n",
       "      <td>7.000000</td>\n",
       "      <td>7.000000</td>\n",
       "      <td>1135.000000</td>\n",
       "      <td>187.000000</td>\n",
       "      <td>4.000000</td>\n",
       "    </tr>\n",
       "    <tr>\n",
       "      <td>50%</td>\n",
       "      <td>7318.00000</td>\n",
       "      <td>2.000000e+00</td>\n",
       "      <td>1.586680e+05</td>\n",
       "      <td>450.000000</td>\n",
       "      <td>38.000000</td>\n",
       "      <td>46.000000</td>\n",
       "      <td>1700.000000</td>\n",
       "      <td>325.000000</td>\n",
       "      <td>4.000000</td>\n",
       "    </tr>\n",
       "    <tr>\n",
       "      <td>75%</td>\n",
       "      <td>10977.00000</td>\n",
       "      <td>6.000000e+00</td>\n",
       "      <td>5.836130e+05</td>\n",
       "      <td>1863.000000</td>\n",
       "      <td>167.000000</td>\n",
       "      <td>224.000000</td>\n",
       "      <td>2064.000000</td>\n",
       "      <td>723.000000</td>\n",
       "      <td>6.000000</td>\n",
       "    </tr>\n",
       "    <tr>\n",
       "      <td>max</td>\n",
       "      <td>14636.00000</td>\n",
       "      <td>5.429665e+06</td>\n",
       "      <td>1.380479e+08</td>\n",
       "      <td>283824.000000</td>\n",
       "      <td>49449.000000</td>\n",
       "      <td>75045.000000</td>\n",
       "      <td>2383.000000</td>\n",
       "      <td>42317.000000</td>\n",
       "      <td>8.000000</td>\n",
       "    </tr>\n",
       "  </tbody>\n",
       "</table>\n",
       "</div>"
      ],
      "text/plain": [
       "             vidid        adview         views          likes      dislikes  \\\n",
       "count  14637.00000  1.463700e+04  1.463700e+04   14637.000000  14637.000000   \n",
       "mean    7318.00000  2.066030e+03  7.112280e+05    2785.841293    254.429391   \n",
       "std     4225.48228  5.282706e+04  2.731475e+06    8938.490736   1029.774864   \n",
       "min        0.00000  1.000000e+00  4.900000e+01       0.000000      0.000000   \n",
       "25%     3659.00000  1.000000e+00  3.151700e+04      88.000000      7.000000   \n",
       "50%     7318.00000  2.000000e+00  1.586680e+05     450.000000     38.000000   \n",
       "75%    10977.00000  6.000000e+00  5.836130e+05    1863.000000    167.000000   \n",
       "max    14636.00000  5.429665e+06  1.380479e+08  283824.000000  49449.000000   \n",
       "\n",
       "            comment     published      duration      category  \n",
       "count  14637.000000  14637.000000  14637.000000  14637.000000  \n",
       "mean     409.135547   1547.372754   1040.179067      4.607228  \n",
       "std     1511.176934    582.911556   2316.818747      1.576312  \n",
       "min        0.000000      0.000000      0.000000      1.000000  \n",
       "25%        7.000000   1135.000000    187.000000      4.000000  \n",
       "50%       46.000000   1700.000000    325.000000      4.000000  \n",
       "75%      224.000000   2064.000000    723.000000      6.000000  \n",
       "max    75045.000000   2383.000000  42317.000000      8.000000  "
      ]
     },
     "execution_count": 17,
     "metadata": {},
     "output_type": "execute_result"
    }
   ],
   "source": [
    "data.describe()"
   ]
  },
  {
   "cell_type": "markdown",
   "metadata": {},
   "source": [
    "### Data Visualisation "
   ]
  },
  {
   "cell_type": "code",
   "execution_count": 18,
   "metadata": {},
   "outputs": [
    {
     "data": {
      "image/png": "[encoded data removed]",
      "text/plain": [
       "<Figure size 432x288 with 1 Axes>"
      ]
     },
     "metadata": {
      "needs_background": "light"
     },
     "output_type": "display_data"
    }
   ],
   "source": [
    "ax2 = sns.boxplot(x=data[\"adview\"])"
   ]
  },
  {
   "cell_type": "code",
   "execution_count": 19,
   "metadata": {},
   "outputs": [
    {
     "data": {
      "image/png": "[encoded data removed]",
      "text/plain": [
       "<Figure size 432x288 with 1 Axes>"
      ]
     },
     "metadata": {
      "needs_background": "light"
     },
     "output_type": "display_data"
    }
   ],
   "source": [
    "ax3 = sns.boxplot(x=data[\"likes\"])"
   ]
  },
  {
   "cell_type": "code",
   "execution_count": 20,
   "metadata": {},
   "outputs": [
    {
     "data": {
      "image/png": "[encoded data removed]",
      "text/plain": [
       "<Figure size 432x288 with 1 Axes>"
      ]
     },
     "metadata": {
      "needs_background": "light"
     },
     "output_type": "display_data"
    }
   ],
   "source": [
    "ax4 = sns.boxplot(x=data[\"dislikes\"])"
   ]
  },
  {
   "cell_type": "code",
   "execution_count": 21,
   "metadata": {},
   "outputs": [
    {
     "data": {
      "image/png": "[encoded data removed]",
      "text/plain": [
       "<Figure size 432x288 with 1 Axes>"
      ]
     },
     "metadata": {
      "needs_background": "light"
     },
     "output_type": "display_data"
    }
   ],
   "source": [
    "ax5 = sns.boxplot(x=data[\"comment\"])"
   ]
  },
  {
   "cell_type": "code",
   "execution_count": 22,
   "metadata": {},
   "outputs": [
    {
     "data": {
      "image/png": "[encoded data removed]",
      "text/plain": [
       "<Figure size 432x288 with 1 Axes>"
      ]
     },
     "metadata": {
      "needs_background": "light"
     },
     "output_type": "display_data"
    }
   ],
   "source": [
    "ax6 = sns.boxplot(x=data[\"duration\"])"
   ]
  },
  {
   "cell_type": "code",
   "execution_count": 23,
   "metadata": {},
   "outputs": [
    {
     "data": {
      "image/png": "[encoded data removed]",
      "text/plain": [
       "<Figure size 432x288 with 1 Axes>"
      ]
     },
     "metadata": {
      "needs_background": "light"
     },
     "output_type": "display_data"
    }
   ],
   "source": [
    "ax7 = sns.boxplot(x=data[\"views\"])"
   ]
  },
  {
   "cell_type": "code",
   "execution_count": 24,
   "metadata": {},
   "outputs": [
    {
     "data": {
      "image/png": "[encoded data removed]",
      "text/plain": [
       "<Figure size 792x648 with 2 Axes>"
      ]
     },
     "metadata": {
      "needs_background": "light"
     },
     "output_type": "display_data"
    }
   ],
   "source": [
    "#Create heatmap to check correlation between attributes\n",
    "\n",
    "f, ax = plt.subplots(figsize=(11,9))\n",
    "corr = data.corr()\n",
    "sns.heatmap(corr, mask=np.zeros_like(corr, dtype=np.bool), cmap=sns.diverging_palette(220,10,as_cmap=True), square=True, ax=ax, annot=True)\n",
    "plt.show()"
   ]
  },
  {
   "cell_type": "markdown",
   "metadata": {},
   "source": [
    "### Removing Outliers"
   ]
  },
  {
   "cell_type": "code",
   "execution_count": 25,
   "metadata": {},
   "outputs": [],
   "source": [
    "data2 = data"
   ]
  },
  {
   "cell_type": "code",
   "execution_count": 26,
   "metadata": {},
   "outputs": [
    {
     "name": "stdout",
     "output_type": "stream",
     "text": [
      "vidid          7318.0\n",
      "adview            5.0\n",
      "views        552096.0\n",
      "likes          1775.0\n",
      "dislikes        160.0\n",
      "comment         217.0\n",
      "published       929.0\n",
      "duration        536.0\n",
      "category          2.0\n",
      "dtype: float64\n"
     ]
    }
   ],
   "source": [
    "#Finding the Inter Quartile Range\n",
    "\n",
    "q1 = data2.quantile(0.25)\n",
    "q3 = data2.quantile(0.75)\n",
    "\n",
    "IQR = q3-q1\n",
    "\n",
    "print(IQR)"
   ]
  },
  {
   "cell_type": "code",
   "execution_count": 27,
   "metadata": {},
   "outputs": [
    {
     "name": "stdout",
     "output_type": "stream",
     "text": [
      "vidid           0\n",
      "adview       2268\n",
      "views        1641\n",
      "likes        2021\n",
      "dislikes     1927\n",
      "comment      2151\n",
      "published       0\n",
      "duration     2049\n",
      "category        0\n",
      "dtype: int64\n"
     ]
    }
   ],
   "source": [
    "#Sum of outliers for each attribute\n",
    "\n",
    "print(((data2 < (q1 - 1.5 * IQR)) | (data2 > (q3 + 1.5 * IQR))).sum())"
   ]
  },
  {
   "cell_type": "code",
   "execution_count": 28,
   "metadata": {},
   "outputs": [
    {
     "data": {
      "text/html": [
       "<div>\n",
       "<style scoped>\n",
       "    .dataframe tbody tr th:only-of-type {\n",
       "        vertical-align: middle;\n",
       "    }\n",
       "\n",
       "    .dataframe tbody tr th {\n",
       "        vertical-align: top;\n",
       "    }\n",
       "\n",
       "    .dataframe thead th {\n",
       "        text-align: right;\n",
       "    }\n",
       "</style>\n",
       "<table border=\"1\" class=\"dataframe\">\n",
       "  <thead>\n",
       "    <tr style=\"text-align: right;\">\n",
       "      <th></th>\n",
       "      <th>vidid</th>\n",
       "      <th>adview</th>\n",
       "      <th>views</th>\n",
       "      <th>likes</th>\n",
       "      <th>dislikes</th>\n",
       "      <th>comment</th>\n",
       "      <th>published</th>\n",
       "      <th>duration</th>\n",
       "      <th>category</th>\n",
       "    </tr>\n",
       "  </thead>\n",
       "  <tbody>\n",
       "    <tr>\n",
       "      <td>1</td>\n",
       "      <td>2741</td>\n",
       "      <td>2</td>\n",
       "      <td>1707</td>\n",
       "      <td>56</td>\n",
       "      <td>2</td>\n",
       "      <td>6</td>\n",
       "      <td>2185</td>\n",
       "      <td>570</td>\n",
       "      <td>4</td>\n",
       "    </tr>\n",
       "    <tr>\n",
       "      <td>2</td>\n",
       "      <td>8138</td>\n",
       "      <td>1</td>\n",
       "      <td>2023</td>\n",
       "      <td>25</td>\n",
       "      <td>0</td>\n",
       "      <td>2</td>\n",
       "      <td>2094</td>\n",
       "      <td>136</td>\n",
       "      <td>3</td>\n",
       "    </tr>\n",
       "    <tr>\n",
       "      <td>3</td>\n",
       "      <td>9005</td>\n",
       "      <td>6</td>\n",
       "      <td>620860</td>\n",
       "      <td>777</td>\n",
       "      <td>161</td>\n",
       "      <td>153</td>\n",
       "      <td>2119</td>\n",
       "      <td>262</td>\n",
       "      <td>8</td>\n",
       "    </tr>\n",
       "    <tr>\n",
       "      <td>4</td>\n",
       "      <td>122</td>\n",
       "      <td>1</td>\n",
       "      <td>666</td>\n",
       "      <td>1</td>\n",
       "      <td>0</td>\n",
       "      <td>0</td>\n",
       "      <td>2091</td>\n",
       "      <td>31</td>\n",
       "      <td>4</td>\n",
       "    </tr>\n",
       "    <tr>\n",
       "      <td>5</td>\n",
       "      <td>517</td>\n",
       "      <td>4</td>\n",
       "      <td>78</td>\n",
       "      <td>0</td>\n",
       "      <td>0</td>\n",
       "      <td>0</td>\n",
       "      <td>2040</td>\n",
       "      <td>15</td>\n",
       "      <td>4</td>\n",
       "    </tr>\n",
       "  </tbody>\n",
       "</table>\n",
       "</div>"
      ],
      "text/plain": [
       "   vidid  adview   views  likes  dislikes  comment  published  duration  \\\n",
       "1   2741       2    1707     56         2        6       2185       570   \n",
       "2   8138       1    2023     25         0        2       2094       136   \n",
       "3   9005       6  620860    777       161      153       2119       262   \n",
       "4    122       1     666      1         0        0       2091        31   \n",
       "5    517       4      78      0         0        0       2040        15   \n",
       "\n",
       "   category  \n",
       "1         4  \n",
       "2         3  \n",
       "3         8  \n",
       "4         4  \n",
       "5         4  "
      ]
     },
     "execution_count": 28,
     "metadata": {},
     "output_type": "execute_result"
    }
   ],
   "source": [
    "#Removing outliers from every attribute\n",
    "\n",
    "x1 = data2[~((data2 < (q1 - 1.5 * IQR)) |(data2 > (q3 + 1.5 * IQR))).any(axis=1)]\n",
    "x1.head()"
   ]
  },
  {
   "cell_type": "code",
   "execution_count": 29,
   "metadata": {},
   "outputs": [
    {
     "data": {
      "text/html": [
       "<div>\n",
       "<style scoped>\n",
       "    .dataframe tbody tr th:only-of-type {\n",
       "        vertical-align: middle;\n",
       "    }\n",
       "\n",
       "    .dataframe tbody tr th {\n",
       "        vertical-align: top;\n",
       "    }\n",
       "\n",
       "    .dataframe thead th {\n",
       "        text-align: right;\n",
       "    }\n",
       "</style>\n",
       "<table border=\"1\" class=\"dataframe\">\n",
       "  <thead>\n",
       "    <tr style=\"text-align: right;\">\n",
       "      <th></th>\n",
       "      <th>vidid</th>\n",
       "      <th>adview</th>\n",
       "      <th>views</th>\n",
       "      <th>likes</th>\n",
       "      <th>dislikes</th>\n",
       "      <th>comment</th>\n",
       "      <th>published</th>\n",
       "      <th>duration</th>\n",
       "      <th>category</th>\n",
       "    </tr>\n",
       "  </thead>\n",
       "  <tbody>\n",
       "    <tr>\n",
       "      <td>count</td>\n",
       "      <td>8167.000000</td>\n",
       "      <td>8167.000000</td>\n",
       "      <td>8.167000e+03</td>\n",
       "      <td>8167.000000</td>\n",
       "      <td>8167.000000</td>\n",
       "      <td>8167.000000</td>\n",
       "      <td>8167.000000</td>\n",
       "      <td>8167.000000</td>\n",
       "      <td>8167.000000</td>\n",
       "    </tr>\n",
       "    <tr>\n",
       "      <td>mean</td>\n",
       "      <td>7672.227011</td>\n",
       "      <td>2.412391</td>\n",
       "      <td>1.797943e+05</td>\n",
       "      <td>547.413004</td>\n",
       "      <td>43.641484</td>\n",
       "      <td>64.105057</td>\n",
       "      <td>1464.205583</td>\n",
       "      <td>380.849639</td>\n",
       "      <td>4.594221</td>\n",
       "    </tr>\n",
       "    <tr>\n",
       "      <td>std</td>\n",
       "      <td>4236.094478</td>\n",
       "      <td>2.442858</td>\n",
       "      <td>2.509860e+05</td>\n",
       "      <td>779.234322</td>\n",
       "      <td>65.543662</td>\n",
       "      <td>100.611936</td>\n",
       "      <td>606.360018</td>\n",
       "      <td>322.199011</td>\n",
       "      <td>1.585402</td>\n",
       "    </tr>\n",
       "    <tr>\n",
       "      <td>min</td>\n",
       "      <td>0.000000</td>\n",
       "      <td>1.000000</td>\n",
       "      <td>4.900000e+01</td>\n",
       "      <td>0.000000</td>\n",
       "      <td>0.000000</td>\n",
       "      <td>0.000000</td>\n",
       "      <td>1.000000</td>\n",
       "      <td>5.000000</td>\n",
       "      <td>1.000000</td>\n",
       "    </tr>\n",
       "    <tr>\n",
       "      <td>25%</td>\n",
       "      <td>4173.000000</td>\n",
       "      <td>1.000000</td>\n",
       "      <td>1.637400e+04</td>\n",
       "      <td>50.000000</td>\n",
       "      <td>4.000000</td>\n",
       "      <td>4.000000</td>\n",
       "      <td>1032.000000</td>\n",
       "      <td>152.000000</td>\n",
       "      <td>4.000000</td>\n",
       "    </tr>\n",
       "    <tr>\n",
       "      <td>50%</td>\n",
       "      <td>7694.000000</td>\n",
       "      <td>1.000000</td>\n",
       "      <td>7.355100e+04</td>\n",
       "      <td>224.000000</td>\n",
       "      <td>16.000000</td>\n",
       "      <td>21.000000</td>\n",
       "      <td>1565.000000</td>\n",
       "      <td>273.000000</td>\n",
       "      <td>4.000000</td>\n",
       "    </tr>\n",
       "    <tr>\n",
       "      <td>75%</td>\n",
       "      <td>11423.000000</td>\n",
       "      <td>3.000000</td>\n",
       "      <td>2.310915e+05</td>\n",
       "      <td>712.000000</td>\n",
       "      <td>54.000000</td>\n",
       "      <td>77.000000</td>\n",
       "      <td>2034.000000</td>\n",
       "      <td>537.000000</td>\n",
       "      <td>6.000000</td>\n",
       "    </tr>\n",
       "    <tr>\n",
       "      <td>max</td>\n",
       "      <td>14633.000000</td>\n",
       "      <td>13.000000</td>\n",
       "      <td>1.407558e+06</td>\n",
       "      <td>4524.000000</td>\n",
       "      <td>406.000000</td>\n",
       "      <td>549.000000</td>\n",
       "      <td>2383.000000</td>\n",
       "      <td>1527.000000</td>\n",
       "      <td>8.000000</td>\n",
       "    </tr>\n",
       "  </tbody>\n",
       "</table>\n",
       "</div>"
      ],
      "text/plain": [
       "              vidid       adview         views        likes     dislikes  \\\n",
       "count   8167.000000  8167.000000  8.167000e+03  8167.000000  8167.000000   \n",
       "mean    7672.227011     2.412391  1.797943e+05   547.413004    43.641484   \n",
       "std     4236.094478     2.442858  2.509860e+05   779.234322    65.543662   \n",
       "min        0.000000     1.000000  4.900000e+01     0.000000     0.000000   \n",
       "25%     4173.000000     1.000000  1.637400e+04    50.000000     4.000000   \n",
       "50%     7694.000000     1.000000  7.355100e+04   224.000000    16.000000   \n",
       "75%    11423.000000     3.000000  2.310915e+05   712.000000    54.000000   \n",
       "max    14633.000000    13.000000  1.407558e+06  4524.000000   406.000000   \n",
       "\n",
       "           comment    published     duration     category  \n",
       "count  8167.000000  8167.000000  8167.000000  8167.000000  \n",
       "mean     64.105057  1464.205583   380.849639     4.594221  \n",
       "std     100.611936   606.360018   322.199011     1.585402  \n",
       "min       0.000000     1.000000     5.000000     1.000000  \n",
       "25%       4.000000  1032.000000   152.000000     4.000000  \n",
       "50%      21.000000  1565.000000   273.000000     4.000000  \n",
       "75%      77.000000  2034.000000   537.000000     6.000000  \n",
       "max     549.000000  2383.000000  1527.000000     8.000000  "
      ]
     },
     "execution_count": 29,
     "metadata": {},
     "output_type": "execute_result"
    }
   ],
   "source": [
    "x1.describe()"
   ]
  },
  {
   "cell_type": "code",
   "execution_count": 30,
   "metadata": {},
   "outputs": [],
   "source": [
    "x2 = x1"
   ]
  },
  {
   "cell_type": "markdown",
   "metadata": {},
   "source": [
    "### Split and Normalize Data"
   ]
  },
  {
   "cell_type": "code",
   "execution_count": 31,
   "metadata": {},
   "outputs": [
    {
     "data": {
      "text/html": [
       "<div>\n",
       "<style scoped>\n",
       "    .dataframe tbody tr th:only-of-type {\n",
       "        vertical-align: middle;\n",
       "    }\n",
       "\n",
       "    .dataframe tbody tr th {\n",
       "        vertical-align: top;\n",
       "    }\n",
       "\n",
       "    .dataframe thead th {\n",
       "        text-align: right;\n",
       "    }\n",
       "</style>\n",
       "<table border=\"1\" class=\"dataframe\">\n",
       "  <thead>\n",
       "    <tr style=\"text-align: right;\">\n",
       "      <th></th>\n",
       "      <th>target</th>\n",
       "    </tr>\n",
       "  </thead>\n",
       "  <tbody>\n",
       "    <tr>\n",
       "      <td>0</td>\n",
       "      <td>2</td>\n",
       "    </tr>\n",
       "    <tr>\n",
       "      <td>1</td>\n",
       "      <td>1</td>\n",
       "    </tr>\n",
       "    <tr>\n",
       "      <td>2</td>\n",
       "      <td>6</td>\n",
       "    </tr>\n",
       "    <tr>\n",
       "      <td>3</td>\n",
       "      <td>1</td>\n",
       "    </tr>\n",
       "    <tr>\n",
       "      <td>4</td>\n",
       "      <td>4</td>\n",
       "    </tr>\n",
       "    <tr>\n",
       "      <td>...</td>\n",
       "      <td>...</td>\n",
       "    </tr>\n",
       "    <tr>\n",
       "      <td>8162</td>\n",
       "      <td>11</td>\n",
       "    </tr>\n",
       "    <tr>\n",
       "      <td>8163</td>\n",
       "      <td>2</td>\n",
       "    </tr>\n",
       "    <tr>\n",
       "      <td>8164</td>\n",
       "      <td>4</td>\n",
       "    </tr>\n",
       "    <tr>\n",
       "      <td>8165</td>\n",
       "      <td>1</td>\n",
       "    </tr>\n",
       "    <tr>\n",
       "      <td>8166</td>\n",
       "      <td>1</td>\n",
       "    </tr>\n",
       "  </tbody>\n",
       "</table>\n",
       "<p>8167 rows × 1 columns</p>\n",
       "</div>"
      ],
      "text/plain": [
       "      target\n",
       "0          2\n",
       "1          1\n",
       "2          6\n",
       "3          1\n",
       "4          4\n",
       "...      ...\n",
       "8162      11\n",
       "8163       2\n",
       "8164       4\n",
       "8165       1\n",
       "8166       1\n",
       "\n",
       "[8167 rows x 1 columns]"
      ]
     },
     "execution_count": 31,
     "metadata": {},
     "output_type": "execute_result"
    }
   ],
   "source": [
    "#Create target and feature columns\n",
    "\n",
    "Y_train = pd.DataFrame(data = x2.iloc[:, 1].values, columns = ['target'])\n",
    "Y_train"
   ]
  },
  {
   "cell_type": "code",
   "execution_count": 32,
   "metadata": {},
   "outputs": [
    {
     "data": {
      "text/html": [
       "<div>\n",
       "<style scoped>\n",
       "    .dataframe tbody tr th:only-of-type {\n",
       "        vertical-align: middle;\n",
       "    }\n",
       "\n",
       "    .dataframe tbody tr th {\n",
       "        vertical-align: top;\n",
       "    }\n",
       "\n",
       "    .dataframe thead th {\n",
       "        text-align: right;\n",
       "    }\n",
       "</style>\n",
       "<table border=\"1\" class=\"dataframe\">\n",
       "  <thead>\n",
       "    <tr style=\"text-align: right;\">\n",
       "      <th></th>\n",
       "      <th>views</th>\n",
       "      <th>likes</th>\n",
       "      <th>dislikes</th>\n",
       "      <th>comment</th>\n",
       "      <th>published</th>\n",
       "      <th>duration</th>\n",
       "      <th>category</th>\n",
       "    </tr>\n",
       "  </thead>\n",
       "  <tbody>\n",
       "    <tr>\n",
       "      <td>1</td>\n",
       "      <td>1707</td>\n",
       "      <td>56</td>\n",
       "      <td>2</td>\n",
       "      <td>6</td>\n",
       "      <td>2185</td>\n",
       "      <td>570</td>\n",
       "      <td>4</td>\n",
       "    </tr>\n",
       "    <tr>\n",
       "      <td>2</td>\n",
       "      <td>2023</td>\n",
       "      <td>25</td>\n",
       "      <td>0</td>\n",
       "      <td>2</td>\n",
       "      <td>2094</td>\n",
       "      <td>136</td>\n",
       "      <td>3</td>\n",
       "    </tr>\n",
       "    <tr>\n",
       "      <td>3</td>\n",
       "      <td>620860</td>\n",
       "      <td>777</td>\n",
       "      <td>161</td>\n",
       "      <td>153</td>\n",
       "      <td>2119</td>\n",
       "      <td>262</td>\n",
       "      <td>8</td>\n",
       "    </tr>\n",
       "    <tr>\n",
       "      <td>4</td>\n",
       "      <td>666</td>\n",
       "      <td>1</td>\n",
       "      <td>0</td>\n",
       "      <td>0</td>\n",
       "      <td>2091</td>\n",
       "      <td>31</td>\n",
       "      <td>4</td>\n",
       "    </tr>\n",
       "    <tr>\n",
       "      <td>5</td>\n",
       "      <td>78</td>\n",
       "      <td>0</td>\n",
       "      <td>0</td>\n",
       "      <td>0</td>\n",
       "      <td>2040</td>\n",
       "      <td>15</td>\n",
       "      <td>4</td>\n",
       "    </tr>\n",
       "  </tbody>\n",
       "</table>\n",
       "</div>"
      ],
      "text/plain": [
       "    views  likes  dislikes  comment  published  duration  category\n",
       "1    1707     56         2        6       2185       570         4\n",
       "2    2023     25         0        2       2094       136         3\n",
       "3  620860    777       161      153       2119       262         8\n",
       "4     666      1         0        0       2091        31         4\n",
       "5      78      0         0        0       2040        15         4"
      ]
     },
     "execution_count": 32,
     "metadata": {},
     "output_type": "execute_result"
    }
   ],
   "source": [
    "x2=x2.drop([\"adview\"],axis=1)\n",
    "x2=x2.drop([\"vidid\"],axis=1)\n",
    "x2.head()"
   ]
  },
  {
   "cell_type": "code",
   "execution_count": 33,
   "metadata": {},
   "outputs": [
    {
     "data": {
      "text/plain": [
       "(6533, 7)"
      ]
     },
     "execution_count": 33,
     "metadata": {},
     "output_type": "execute_result"
    }
   ],
   "source": [
    "#Split data into 80/20 train test split\n",
    "\n",
    "X_train, X_test, y_train, y_test = train_test_split(x2, Y_train, test_size=0.2, random_state=42)\n",
    "X_train.shape"
   ]
  },
  {
   "cell_type": "code",
   "execution_count": 34,
   "metadata": {},
   "outputs": [
    {
     "data": {
      "text/plain": [
       "0.2640957570654967"
      ]
     },
     "execution_count": 34,
     "metadata": {},
     "output_type": "execute_result"
    }
   ],
   "source": [
    "#Standardize the features\n",
    "\n",
    "scaler = MinMaxScaler()\n",
    "X_train=scaler.fit_transform(X_train)\n",
    "X_test=scaler.fit_transform(X_test)\n",
    "X_train.mean()"
   ]
  },
  {
   "cell_type": "code",
   "execution_count": 35,
   "metadata": {},
   "outputs": [],
   "source": [
    "#Write a function to calculate the errors for each model \n",
    "\n",
    "def print_error(X_test, y_test, model_name):\n",
    "    prediction = model_name.predict(X_test)\n",
    "    print('Mean Absolute Error:', metrics.mean_absolute_error(y_test, prediction))\n",
    "    print('Mean Squared Error:', metrics.mean_squared_error(y_test, prediction))\n",
    "    print('Root Mean Squared Error:', np.sqrt(metrics.mean_squared_error(y_test, prediction)))  "
   ]
  },
  {
   "cell_type": "code",
   "execution_count": 36,
   "metadata": {},
   "outputs": [
    {
     "name": "stdout",
     "output_type": "stream",
     "text": [
      "Mean Absolute Error: 1.633034291115642\n",
      "Mean Squared Error: 5.569326382799355\n",
      "Root Mean Squared Error: 2.3599420295421147\n"
     ]
    }
   ],
   "source": [
    "#Linear Regression model \n",
    "\n",
    "from sklearn import linear_model\n",
    "linear_regression = linear_model.LinearRegression()\n",
    "linear_regression.fit(X_train, y_train)\n",
    "print_error(X_test,y_test, linear_regression)"
   ]
  },
  {
   "cell_type": "code",
   "execution_count": 37,
   "metadata": {},
   "outputs": [
    {
     "name": "stderr",
     "output_type": "stream",
     "text": [
      "E:\\Anaconda\\lib\\site-packages\\sklearn\\utils\\validation.py:724: DataConversionWarning: A column-vector y was passed when a 1d array was expected. Please change the shape of y to (n_samples, ), for example using ravel().\n",
      "  y = column_or_1d(y, warn=True)\n",
      "E:\\Anaconda\\lib\\site-packages\\sklearn\\svm\\base.py:193: FutureWarning: The default value of gamma will change from 'auto' to 'scale' in version 0.22 to account better for unscaled features. Set gamma explicitly to 'auto' or 'scale' to avoid this warning.\n",
      "  \"avoid this warning.\", FutureWarning)\n"
     ]
    },
    {
     "name": "stdout",
     "output_type": "stream",
     "text": [
      "Mean Absolute Error: 1.3573231604365628\n",
      "Mean Squared Error: 6.609335324870026\n",
      "Root Mean Squared Error: 2.570862758855483\n"
     ]
    }
   ],
   "source": [
    "#Support Vector model\n",
    "\n",
    "from sklearn.svm import SVR\n",
    "supportvector_regressor = SVR()\n",
    "supportvector_regressor.fit(X_train,y_train)\n",
    "print_error(X_test,y_test, supportvector_regressor)\n"
   ]
  },
  {
   "cell_type": "code",
   "execution_count": 38,
   "metadata": {},
   "outputs": [
    {
     "name": "stdout",
     "output_type": "stream",
     "text": [
      "Mean Absolute Error: 1.9914320685434517\n",
      "Mean Squared Error: 10.69767441860465\n",
      "Root Mean Squared Error: 3.270729951953333\n"
     ]
    }
   ],
   "source": [
    "#Decision Tree model\n",
    "\n",
    "from sklearn.tree import DecisionTreeRegressor\n",
    "decision_tree = DecisionTreeRegressor()\n",
    "decision_tree.fit(X_train, y_train)\n",
    "print_error(X_test,y_test, decision_tree)"
   ]
  },
  {
   "cell_type": "code",
   "execution_count": 39,
   "metadata": {},
   "outputs": [
    {
     "name": "stderr",
     "output_type": "stream",
     "text": [
      "E:\\Anaconda\\lib\\site-packages\\ipykernel_launcher.py:5: DataConversionWarning: A column-vector y was passed when a 1d array was expected. Please change the shape of y to (n_samples,), for example using ravel().\n",
      "  \"\"\"\n"
     ]
    },
    {
     "name": "stdout",
     "output_type": "stream",
     "text": [
      "Mean Absolute Error: 1.5528154418584095\n",
      "Mean Squared Error: 5.133077484429086\n",
      "Root Mean Squared Error: 2.2656296000072667\n"
     ]
    }
   ],
   "source": [
    "#Random forest model\n",
    "\n",
    "from sklearn.ensemble import RandomForestRegressor\n",
    "random_forest = RandomForestRegressor(n_estimators = 200, max_depth = 25, min_samples_split=15, min_samples_leaf=2)\n",
    "random_forest.fit(X_train,y_train)\n",
    "print_error(X_test,y_test, random_forest)"
   ]
  },
  {
   "cell_type": "code",
   "execution_count": 40,
   "metadata": {},
   "outputs": [],
   "source": [
    "#Create an artificial neural network \n",
    "\n",
    "ann = tensorflow.keras.models.Sequential([Dense(6, activation=\"relu\", input_shape=X_train.shape[1:]), Dense(6,activation=\"relu\"), Dense(1)])\n",
    "loss = tensorflow.keras.losses.MeanSquaredError()\n",
    "ann.compile(optimizer=\"Adam\",loss='mse',metrics=['mse'])"
   ]
  },
  {
   "cell_type": "code",
   "execution_count": 41,
   "metadata": {},
   "outputs": [
    {
     "name": "stdout",
     "output_type": "stream",
     "text": [
      "Epoch 1/100\n",
      "205/205 [==============================] - 0s 861us/step - loss: 7.6438 - mse: 7.6438\n",
      "Epoch 2/100\n",
      "205/205 [==============================] - ETA: 0s - loss: 6.3570 - mse: 6.357 - 0s 739us/step - loss: 6.2922 - mse: 6.2922\n",
      "Epoch 3/100\n",
      "205/205 [==============================] - 0s 851us/step - loss: 6.1649 - mse: 6.1649\n",
      "Epoch 4/100\n",
      "205/205 [==============================] - 0s 1ms/step - loss: 6.0568 - mse: 6.0568\n",
      "Epoch 5/100\n",
      "205/205 [==============================] - 0s 827us/step - loss: 5.9678 - mse: 5.9678\n",
      "Epoch 6/100\n",
      "205/205 [==============================] - 0s 842us/step - loss: 5.9012 - mse: 5.9012\n",
      "Epoch 7/100\n",
      "205/205 [==============================] - 0s 686us/step - loss: 5.8522 - mse: 5.8522\n",
      "Epoch 8/100\n",
      "205/205 [==============================] - 0s 691us/step - loss: 5.8173 - mse: 5.8173\n",
      "Epoch 9/100\n",
      "205/205 [==============================] - 0s 895us/step - loss: 5.7888 - mse: 5.7888\n",
      "Epoch 10/100\n",
      "205/205 [==============================] - 0s 1ms/step - loss: 5.7720 - mse: 5.7720\n",
      "Epoch 11/100\n",
      "205/205 [==============================] - 0s 944us/step - loss: 5.7468 - mse: 5.7468\n",
      "Epoch 12/100\n",
      "205/205 [==============================] - 0s 662us/step - loss: 5.7304 - mse: 5.7304\n",
      "Epoch 13/100\n",
      "205/205 [==============================] - 0s 735us/step - loss: 5.7150 - mse: 5.7150\n",
      "Epoch 14/100\n",
      "205/205 [==============================] - 0s 725us/step - loss: 5.7018 - mse: 5.7018\n",
      "Epoch 15/100\n",
      "205/205 [==============================] - 0s 851us/step - loss: 5.6912 - mse: 5.6912\n",
      "Epoch 16/100\n",
      "205/205 [==============================] - 0s 774us/step - loss: 5.6774 - mse: 5.6774\n",
      "Epoch 17/100\n",
      "205/205 [==============================] - 0s 696us/step - loss: 5.6660 - mse: 5.6660\n",
      "Epoch 18/100\n",
      "205/205 [==============================] - 0s 701us/step - loss: 5.6630 - mse: 5.6630\n",
      "Epoch 19/100\n",
      "205/205 [==============================] - 0s 691us/step - loss: 5.6513 - mse: 5.6513\n",
      "Epoch 20/100\n",
      "205/205 [==============================] - 0s 637us/step - loss: 5.6437 - mse: 5.6437\n",
      "Epoch 21/100\n",
      "205/205 [==============================] - 0s 890us/step - loss: 5.6407 - mse: 5.6407\n",
      "Epoch 22/100\n",
      "205/205 [==============================] - 0s 856us/step - loss: 5.6341 - mse: 5.6341\n",
      "Epoch 23/100\n",
      "205/205 [==============================] - 0s 710us/step - loss: 5.6217 - mse: 5.6217\n",
      "Epoch 24/100\n",
      "205/205 [==============================] - 0s 686us/step - loss: 5.6248 - mse: 5.6248\n",
      "Epoch 25/100\n",
      "205/205 [==============================] - 0s 642us/step - loss: 5.6138 - mse: 5.6138\n",
      "Epoch 26/100\n",
      "205/205 [==============================] - 0s 691us/step - loss: 5.6080 - mse: 5.6080\n",
      "Epoch 27/100\n",
      "205/205 [==============================] - 0s 847us/step - loss: 5.5966 - mse: 5.5966\n",
      "Epoch 28/100\n",
      "205/205 [==============================] - 0s 973us/step - loss: 5.5971 - mse: 5.5971\n",
      "Epoch 29/100\n",
      "205/205 [==============================] - 0s 754us/step - loss: 5.5879 - mse: 5.5879\n",
      "Epoch 30/100\n",
      "205/205 [==============================] - 0s 715us/step - loss: 5.5852 - mse: 5.5852\n",
      "Epoch 31/100\n",
      "205/205 [==============================] - 0s 676us/step - loss: 5.5846 - mse: 5.5846\n",
      "Epoch 32/100\n",
      "205/205 [==============================] - 0s 691us/step - loss: 5.5845 - mse: 5.5845\n",
      "Epoch 33/100\n",
      "205/205 [==============================] - 0s 705us/step - loss: 5.5745 - mse: 5.5745\n",
      "Epoch 34/100\n",
      "205/205 [==============================] - 0s 837us/step - loss: 5.5720 - mse: 5.5720\n",
      "Epoch 35/100\n",
      "205/205 [==============================] - 0s 705us/step - loss: 5.5682 - mse: 5.5682\n",
      "Epoch 36/100\n",
      "205/205 [==============================] - 0s 662us/step - loss: 5.5546 - mse: 5.5546\n",
      "Epoch 37/100\n",
      "205/205 [==============================] - 0s 837us/step - loss: 5.5557 - mse: 5.5557\n",
      "Epoch 38/100\n",
      "205/205 [==============================] - 0s 715us/step - loss: 5.5484 - mse: 5.5484\n",
      "Epoch 39/100\n",
      "205/205 [==============================] - 0s 744us/step - loss: 5.5492 - mse: 5.5492\n",
      "Epoch 40/100\n",
      "205/205 [==============================] - 0s 837us/step - loss: 5.5411 - mse: 5.5411\n",
      "Epoch 41/100\n",
      "205/205 [==============================] - 0s 1ms/step - loss: 5.5383 - mse: 5.5383\n",
      "Epoch 42/100\n",
      "205/205 [==============================] - 0s 1ms/step - loss: 5.5341 - mse: 5.5341\n",
      "Epoch 43/100\n",
      "205/205 [==============================] - ETA: 0s - loss: 5.5795 - mse: 5.579 - 0s 769us/step - loss: 5.5368 - mse: 5.5368\n",
      "Epoch 44/100\n",
      "205/205 [==============================] - 0s 900us/step - loss: 5.5284 - mse: 5.5284\n",
      "Epoch 45/100\n",
      "205/205 [==============================] - 0s 1ms/step - loss: 5.5300 - mse: 5.5300\n",
      "Epoch 46/100\n",
      "205/205 [==============================] - 0s 1ms/step - loss: 5.5215 - mse: 5.5215\n",
      "Epoch 47/100\n",
      "205/205 [==============================] - 0s 1ms/step - loss: 5.5290 - mse: 5.5290\n",
      "Epoch 48/100\n",
      "205/205 [==============================] - 0s 1ms/step - loss: 5.5178 - mse: 5.5178\n",
      "Epoch 49/100\n",
      "205/205 [==============================] - 0s 1ms/step - loss: 5.5134 - mse: 5.5134\n",
      "Epoch 50/100\n",
      "205/205 [==============================] - 0s 885us/step - loss: 5.5125 - mse: 5.5125\n",
      "Epoch 51/100\n",
      "205/205 [==============================] - 0s 710us/step - loss: 5.5131 - mse: 5.5131\n",
      "Epoch 52/100\n",
      "205/205 [==============================] - 0s 866us/step - loss: 5.5123 - mse: 5.5123\n",
      "Epoch 53/100\n",
      "205/205 [==============================] - 0s 637us/step - loss: 5.5112 - mse: 5.5112\n",
      "Epoch 54/100\n",
      "205/205 [==============================] - 0s 667us/step - loss: 5.5037 - mse: 5.5037\n",
      "Epoch 55/100\n",
      "205/205 [==============================] - 0s 652us/step - loss: 5.5010 - mse: 5.5010\n",
      "Epoch 56/100\n",
      "205/205 [==============================] - 0s 715us/step - loss: 5.4943 - mse: 5.4943\n",
      "Epoch 57/100\n",
      "205/205 [==============================] - 0s 1ms/step - loss: 5.4941 - mse: 5.4941\n",
      "Epoch 58/100\n",
      "205/205 [==============================] - 0s 2ms/step - loss: 5.4911 - mse: 5.4911\n",
      "Epoch 59/100\n",
      "205/205 [==============================] - 0s 1ms/step - loss: 5.4914 - mse: 5.4914\n",
      "Epoch 60/100\n",
      "205/205 [==============================] - 0s 1ms/step - loss: 5.4830 - mse: 5.4830\n",
      "Epoch 61/100\n",
      "205/205 [==============================] - 0s 1ms/step - loss: 5.4844 - mse: 5.4844\n",
      "Epoch 62/100\n",
      "205/205 [==============================] - 0s 1ms/step - loss: 5.4793 - mse: 5.4793\n",
      "Epoch 63/100\n",
      "205/205 [==============================] - 0s 1ms/step - loss: 5.4777 - mse: 5.4777\n",
      "Epoch 64/100\n",
      "205/205 [==============================] - 0s 1ms/step - loss: 5.4720 - mse: 5.4720\n",
      "Epoch 65/100\n",
      "205/205 [==============================] - 0s 983us/step - loss: 5.4740 - mse: 5.4740\n",
      "Epoch 66/100\n",
      "205/205 [==============================] - 0s 676us/step - loss: 5.4745 - mse: 5.4745\n",
      "Epoch 67/100\n",
      "205/205 [==============================] - 0s 696us/step - loss: 5.4724 - mse: 5.4724\n",
      "Epoch 68/100\n",
      "205/205 [==============================] - 0s 637us/step - loss: 5.4611 - mse: 5.4611\n",
      "Epoch 69/100\n",
      "205/205 [==============================] - 0s 652us/step - loss: 5.4740 - mse: 5.4740\n",
      "Epoch 70/100\n",
      "205/205 [==============================] - 0s 671us/step - loss: 5.4635 - mse: 5.4635\n",
      "Epoch 71/100\n",
      "205/205 [==============================] - 0s 628us/step - loss: 5.4679 - mse: 5.4679\n",
      "Epoch 72/100\n",
      "205/205 [==============================] - 0s 919us/step - loss: 5.4506 - mse: 5.4506\n",
      "Epoch 73/100\n",
      "205/205 [==============================] - 0s 1ms/step - loss: 5.4681 - mse: 5.4681\n",
      "Epoch 74/100\n",
      "205/205 [==============================] - 0s 1ms/step - loss: 5.4476 - mse: 5.4476\n",
      "Epoch 75/100\n",
      "205/205 [==============================] - 0s 1ms/step - loss: 5.4448 - mse: 5.4448\n",
      "Epoch 76/100\n",
      "205/205 [==============================] - 0s 1ms/step - loss: 5.4485 - mse: 5.4485\n",
      "Epoch 77/100\n",
      "205/205 [==============================] - 0s 1ms/step - loss: 5.4431 - mse: 5.4431\n",
      "Epoch 78/100\n",
      "205/205 [==============================] - 0s 1ms/step - loss: 5.4399 - mse: 5.4399\n",
      "Epoch 79/100\n",
      "205/205 [==============================] - 0s 958us/step - loss: 5.4455 - mse: 5.4455\n",
      "Epoch 80/100\n",
      "205/205 [==============================] - 0s 919us/step - loss: 5.4355 - mse: 5.4355\n",
      "Epoch 81/100\n",
      "205/205 [==============================] - 0s 793us/step - loss: 5.4379 - mse: 5.4379\n",
      "Epoch 82/100\n",
      "205/205 [==============================] - 0s 764us/step - loss: 5.4292 - mse: 5.4292\n",
      "Epoch 83/100\n"
     ]
    },
    {
     "name": "stdout",
     "output_type": "stream",
     "text": [
      "205/205 [==============================] - 0s 720us/step - loss: 5.4302 - mse: 5.4302\n",
      "Epoch 84/100\n",
      "205/205 [==============================] - 0s 798us/step - loss: 5.4261 - mse: 5.4261\n",
      "Epoch 85/100\n",
      "205/205 [==============================] - 0s 895us/step - loss: 5.4226 - mse: 5.4226\n",
      "Epoch 86/100\n",
      "205/205 [==============================] - 0s 735us/step - loss: 5.4238 - mse: 5.4238\n",
      "Epoch 87/100\n",
      "205/205 [==============================] - 0s 730us/step - loss: 5.4261 - mse: 5.4261\n",
      "Epoch 88/100\n",
      "205/205 [==============================] - 0s 691us/step - loss: 5.4134 - mse: 5.4134\n",
      "Epoch 89/100\n",
      "205/205 [==============================] - 0s 793us/step - loss: 5.4203 - mse: 5.4203\n",
      "Epoch 90/100\n",
      "205/205 [==============================] - 0s 939us/step - loss: 5.4123 - mse: 5.4123\n",
      "Epoch 91/100\n",
      "205/205 [==============================] - 0s 788us/step - loss: 5.4092 - mse: 5.4092\n",
      "Epoch 92/100\n",
      "205/205 [==============================] - 0s 856us/step - loss: 5.4137 - mse: 5.4137\n",
      "Epoch 93/100\n",
      "205/205 [==============================] - 0s 817us/step - loss: 5.4072 - mse: 5.4072\n",
      "Epoch 94/100\n",
      "205/205 [==============================] - 0s 842us/step - loss: 5.4060 - mse: 5.4060\n",
      "Epoch 95/100\n",
      "205/205 [==============================] - 0s 812us/step - loss: 5.4129 - mse: 5.4129\n",
      "Epoch 96/100\n",
      "205/205 [==============================] - 0s 817us/step - loss: 5.4081 - mse: 5.4081\n",
      "Epoch 97/100\n",
      "205/205 [==============================] - 0s 730us/step - loss: 5.4050 - mse: 5.4050\n",
      "Epoch 98/100\n",
      "205/205 [==============================] - 0s 705us/step - loss: 5.4058 - mse: 5.4058\n",
      "Epoch 99/100\n",
      "205/205 [==============================] - 0s 725us/step - loss: 5.3944 - mse: 5.3944\n",
      "Epoch 100/100\n",
      "205/205 [==============================] - 0s 618us/step - loss: 5.4001 - mse: 5.4001\n"
     ]
    }
   ],
   "source": [
    "history=ann.fit(X_train,y_train,epochs=100)"
   ]
  },
  {
   "cell_type": "code",
   "execution_count": 42,
   "metadata": {},
   "outputs": [
    {
     "name": "stdout",
     "output_type": "stream",
     "text": [
      "Model: \"sequential\"\n",
      "_________________________________________________________________\n",
      "Layer (type)                 Output Shape              Param #   \n",
      "=================================================================\n",
      "dense (Dense)                (None, 6)                 48        \n",
      "_________________________________________________________________\n",
      "dense_1 (Dense)              (None, 6)                 42        \n",
      "_________________________________________________________________\n",
      "dense_2 (Dense)              (None, 1)                 7         \n",
      "=================================================================\n",
      "Total params: 97\n",
      "Trainable params: 97\n",
      "Non-trainable params: 0\n",
      "_________________________________________________________________\n",
      "Mean Absolute Error: 1.5693553360030876\n",
      "Mean Squared Error: 5.352662748128827\n",
      "Root Mean Squared Error: 2.3135822328434377\n"
     ]
    }
   ],
   "source": [
    "ann.summary()\n",
    "print_error(X_test,y_test,ann)"
   ]
  },
  {
   "cell_type": "code",
   "execution_count": 43,
   "metadata": {},
   "outputs": [
    {
     "data": {
      "text/plain": [
       "['RF_youtubeadview.pkl']"
      ]
     },
     "execution_count": 43,
     "metadata": {},
     "output_type": "execute_result"
    }
   ],
   "source": [
    "import joblib\n",
    "joblib.dump(random_forest, \"RF_youtubeadview.pkl\")"
   ]
  },
  {
   "cell_type": "code",
   "execution_count": 44,
   "metadata": {},
   "outputs": [],
   "source": [
    "ann.save(\"ann_youtubeadview.h5\")"
   ]
  },
  {
   "cell_type": "code",
   "execution_count": null,
   "metadata": {},
   "outputs": [],
   "source": []
  },
  {
   "cell_type": "markdown",
   "metadata": {},
   "source": [
    "## TESTING THE MODEL"
   ]
  },
  {
   "cell_type": "markdown",
   "metadata": {},
   "source": [
    "### Data Preprocessing "
   ]
  },
  {
   "cell_type": "code",
   "execution_count": 45,
   "metadata": {},
   "outputs": [],
   "source": [
    "path2 = \"D:\\Other\\Internship Studio\\Project\\\\\"\n",
    "data_test = pd.read_csv(path + \"test.csv\")"
   ]
  },
  {
   "cell_type": "code",
   "execution_count": 46,
   "metadata": {},
   "outputs": [
    {
     "data": {
      "text/html": [
       "<div>\n",
       "<style scoped>\n",
       "    .dataframe tbody tr th:only-of-type {\n",
       "        vertical-align: middle;\n",
       "    }\n",
       "\n",
       "    .dataframe tbody tr th {\n",
       "        vertical-align: top;\n",
       "    }\n",
       "\n",
       "    .dataframe thead th {\n",
       "        text-align: right;\n",
       "    }\n",
       "</style>\n",
       "<table border=\"1\" class=\"dataframe\">\n",
       "  <thead>\n",
       "    <tr style=\"text-align: right;\">\n",
       "      <th></th>\n",
       "      <th>vidid</th>\n",
       "      <th>views</th>\n",
       "      <th>likes</th>\n",
       "      <th>dislikes</th>\n",
       "      <th>comment</th>\n",
       "      <th>published</th>\n",
       "      <th>duration</th>\n",
       "      <th>category</th>\n",
       "    </tr>\n",
       "  </thead>\n",
       "  <tbody>\n",
       "    <tr>\n",
       "      <td>0</td>\n",
       "      <td>VID_1054</td>\n",
       "      <td>440238</td>\n",
       "      <td>6153</td>\n",
       "      <td>218</td>\n",
       "      <td>1377</td>\n",
       "      <td>2017-02-18</td>\n",
       "      <td>PT7M29S</td>\n",
       "      <td>B</td>\n",
       "    </tr>\n",
       "    <tr>\n",
       "      <td>1</td>\n",
       "      <td>VID_18629</td>\n",
       "      <td>1040132</td>\n",
       "      <td>8171</td>\n",
       "      <td>340</td>\n",
       "      <td>1047</td>\n",
       "      <td>2016-06-28</td>\n",
       "      <td>PT6M29S</td>\n",
       "      <td>F</td>\n",
       "    </tr>\n",
       "    <tr>\n",
       "      <td>2</td>\n",
       "      <td>VID_13967</td>\n",
       "      <td>28534</td>\n",
       "      <td>31</td>\n",
       "      <td>11</td>\n",
       "      <td>1</td>\n",
       "      <td>2014-03-10</td>\n",
       "      <td>PT37M54S</td>\n",
       "      <td>D</td>\n",
       "    </tr>\n",
       "    <tr>\n",
       "      <td>3</td>\n",
       "      <td>VID_19442</td>\n",
       "      <td>1316715</td>\n",
       "      <td>2284</td>\n",
       "      <td>250</td>\n",
       "      <td>274</td>\n",
       "      <td>2010-06-05</td>\n",
       "      <td>PT9M55S</td>\n",
       "      <td>G</td>\n",
       "    </tr>\n",
       "    <tr>\n",
       "      <td>4</td>\n",
       "      <td>VID_770</td>\n",
       "      <td>1893173</td>\n",
       "      <td>2519</td>\n",
       "      <td>225</td>\n",
       "      <td>116</td>\n",
       "      <td>2016-09-03</td>\n",
       "      <td>PT3M8S</td>\n",
       "      <td>B</td>\n",
       "    </tr>\n",
       "  </tbody>\n",
       "</table>\n",
       "</div>"
      ],
      "text/plain": [
       "       vidid    views likes dislikes comment   published  duration category\n",
       "0   VID_1054   440238  6153      218    1377  2017-02-18   PT7M29S        B\n",
       "1  VID_18629  1040132  8171      340    1047  2016-06-28   PT6M29S        F\n",
       "2  VID_13967    28534    31       11       1  2014-03-10  PT37M54S        D\n",
       "3  VID_19442  1316715  2284      250     274  2010-06-05   PT9M55S        G\n",
       "4    VID_770  1893173  2519      225     116  2016-09-03    PT3M8S        B"
      ]
     },
     "execution_count": 46,
     "metadata": {},
     "output_type": "execute_result"
    }
   ],
   "source": [
    "data_test.head()"
   ]
  },
  {
   "cell_type": "code",
   "execution_count": 47,
   "metadata": {},
   "outputs": [
    {
     "data": {
      "text/plain": [
       "(8764, 8)"
      ]
     },
     "execution_count": 47,
     "metadata": {},
     "output_type": "execute_result"
    }
   ],
   "source": [
    "data_test.shape"
   ]
  },
  {
   "cell_type": "code",
   "execution_count": 48,
   "metadata": {},
   "outputs": [
    {
     "data": {
      "text/plain": [
       "0       2\n",
       "1       6\n",
       "2       4\n",
       "3       7\n",
       "4       2\n",
       "       ..\n",
       "8759    3\n",
       "8760    4\n",
       "8761    6\n",
       "8762    4\n",
       "8763    4\n",
       "Name: category, Length: 8764, dtype: int64"
      ]
     },
     "execution_count": 48,
     "metadata": {},
     "output_type": "execute_result"
    }
   ],
   "source": [
    "#Convert the data in the category column to numerical form by mapping each unique letter to a number\n",
    "\n",
    "category = {'A':1, 'B':2, 'C':3, 'D':4, 'E':5, 'F':6, 'G':7, 'H':8}\n",
    "data_test[\"category\"] = data_test[\"category\"].map(category)\n",
    "\n",
    "data_test.category"
   ]
  },
  {
   "cell_type": "code",
   "execution_count": 49,
   "metadata": {},
   "outputs": [],
   "source": [
    "#Removing non-numerical entries from 4 columns \n",
    "\n",
    "data_test = data_test[data_test.views!='F']\n",
    "data_test = data_test[data_test.likes!='F']\n",
    "data_test = data_test[data_test.dislikes!='F']\n",
    "data_test = data_test[data_test.comment!='F']"
   ]
  },
  {
   "cell_type": "code",
   "execution_count": 50,
   "metadata": {},
   "outputs": [],
   "source": [
    "#Converting the cells from str to numerical values\n",
    "\n",
    "data_test[\"views\"] = pd.to_numeric(data_test[\"views\"])\n",
    "data_test[\"likes\"] = pd.to_numeric(data_test[\"likes\"])\n",
    "data_test[\"dislikes\"] = pd.to_numeric(data_test[\"dislikes\"])\n",
    "data_test[\"comment\"] = pd.to_numeric(data_test[\"comment\"])"
   ]
  },
  {
   "cell_type": "code",
   "execution_count": 51,
   "metadata": {},
   "outputs": [
    {
     "data": {
      "text/plain": [
       "(8549, 8)"
      ]
     },
     "execution_count": 51,
     "metadata": {},
     "output_type": "execute_result"
    }
   ],
   "source": [
    "data_test.shape"
   ]
  },
  {
   "cell_type": "code",
   "execution_count": 52,
   "metadata": {},
   "outputs": [],
   "source": [
    "#Transform the values of 3 columns from str to numerical, where LabelEncoder assigns it a numerical value\n",
    "\n",
    "data_test['duration'] = LabelEncoder().fit_transform(data_test['duration'])\n",
    "data_test['vidid'] = LabelEncoder().fit_transform(data_test['vidid'])\n",
    "data_test['published'] = LabelEncoder().fit_transform(data_test['published'])"
   ]
  },
  {
   "cell_type": "code",
   "execution_count": 53,
   "metadata": {},
   "outputs": [
    {
     "data": {
      "text/html": [
       "<div>\n",
       "<style scoped>\n",
       "    .dataframe tbody tr th:only-of-type {\n",
       "        vertical-align: middle;\n",
       "    }\n",
       "\n",
       "    .dataframe tbody tr th {\n",
       "        vertical-align: top;\n",
       "    }\n",
       "\n",
       "    .dataframe thead th {\n",
       "        text-align: right;\n",
       "    }\n",
       "</style>\n",
       "<table border=\"1\" class=\"dataframe\">\n",
       "  <thead>\n",
       "    <tr style=\"text-align: right;\">\n",
       "      <th></th>\n",
       "      <th>vidid</th>\n",
       "      <th>views</th>\n",
       "      <th>likes</th>\n",
       "      <th>dislikes</th>\n",
       "      <th>comment</th>\n",
       "      <th>published</th>\n",
       "      <th>duration</th>\n",
       "      <th>category</th>\n",
       "    </tr>\n",
       "  </thead>\n",
       "  <tbody>\n",
       "    <tr>\n",
       "      <td>0</td>\n",
       "      <td>231</td>\n",
       "      <td>440238</td>\n",
       "      <td>6153</td>\n",
       "      <td>218</td>\n",
       "      <td>1377</td>\n",
       "      <td>2053</td>\n",
       "      <td>2115</td>\n",
       "      <td>2</td>\n",
       "    </tr>\n",
       "    <tr>\n",
       "      <td>1</td>\n",
       "      <td>3444</td>\n",
       "      <td>1040132</td>\n",
       "      <td>8171</td>\n",
       "      <td>340</td>\n",
       "      <td>1047</td>\n",
       "      <td>1825</td>\n",
       "      <td>2055</td>\n",
       "      <td>6</td>\n",
       "    </tr>\n",
       "    <tr>\n",
       "      <td>2</td>\n",
       "      <td>1593</td>\n",
       "      <td>28534</td>\n",
       "      <td>31</td>\n",
       "      <td>11</td>\n",
       "      <td>1</td>\n",
       "      <td>1009</td>\n",
       "      <td>1506</td>\n",
       "      <td>4</td>\n",
       "    </tr>\n",
       "    <tr>\n",
       "      <td>3</td>\n",
       "      <td>3775</td>\n",
       "      <td>1316715</td>\n",
       "      <td>2284</td>\n",
       "      <td>250</td>\n",
       "      <td>274</td>\n",
       "      <td>116</td>\n",
       "      <td>2265</td>\n",
       "      <td>7</td>\n",
       "    </tr>\n",
       "    <tr>\n",
       "      <td>4</td>\n",
       "      <td>7644</td>\n",
       "      <td>1893173</td>\n",
       "      <td>2519</td>\n",
       "      <td>225</td>\n",
       "      <td>116</td>\n",
       "      <td>1892</td>\n",
       "      <td>1625</td>\n",
       "      <td>2</td>\n",
       "    </tr>\n",
       "  </tbody>\n",
       "</table>\n",
       "</div>"
      ],
      "text/plain": [
       "   vidid    views  likes  dislikes  comment  published  duration  category\n",
       "0    231   440238   6153       218     1377       2053      2115         2\n",
       "1   3444  1040132   8171       340     1047       1825      2055         6\n",
       "2   1593    28534     31        11        1       1009      1506         4\n",
       "3   3775  1316715   2284       250      274        116      2265         7\n",
       "4   7644  1893173   2519       225      116       1892      1625         2"
      ]
     },
     "execution_count": 53,
     "metadata": {},
     "output_type": "execute_result"
    }
   ],
   "source": [
    "data_test.head()"
   ]
  },
  {
   "cell_type": "code",
   "execution_count": 54,
   "metadata": {},
   "outputs": [],
   "source": [
    "#Write a function to convert the values of duration to the number of seconds \n",
    "\n",
    "def checki_test(x_):\n",
    "    y = x_[2:]\n",
    "    h = ''\n",
    "    m = ''\n",
    "    s = ''\n",
    "    mm = ''\n",
    "    P = ['H', 'M', 'S']\n",
    "    for i in y:\n",
    "        if i not in P:\n",
    "            mm += i\n",
    "        else:\n",
    "            if (i=='H'):\n",
    "                h = mm\n",
    "                mm = ''\n",
    "            elif (i=='M'):\n",
    "                m = mm\n",
    "                mm = ''\n",
    "            else: \n",
    "                s = mm\n",
    "                mm = ''\n",
    "    if (h==''):\n",
    "        h = '00'\n",
    "    if (m==''):\n",
    "        m = '00'\n",
    "    if (s==''):\n",
    "        s = '00'\n",
    "    bp = h + ':' + m + ':' + s\n",
    "    return bp\n",
    "\n",
    "train = pd.read_csv(\"train.csv\")\n",
    "mp_test = pd.read_csv(path + \"test.csv\")[\"duration\"]\n",
    "time_test = mp_test.apply(checki_test)\n",
    "\n",
    "def func_sec_test(time_string_):\n",
    "    h, m, s = time_string_.split(':')\n",
    "    return int(h) * 3600 + int(m) * 60 + int(s) "
   ]
  },
  {
   "cell_type": "code",
   "execution_count": 55,
   "metadata": {},
   "outputs": [],
   "source": [
    "time_test_1 = time_test.apply(func_sec_test)"
   ]
  },
  {
   "cell_type": "code",
   "execution_count": 56,
   "metadata": {},
   "outputs": [
    {
     "data": {
      "text/html": [
       "<div>\n",
       "<style scoped>\n",
       "    .dataframe tbody tr th:only-of-type {\n",
       "        vertical-align: middle;\n",
       "    }\n",
       "\n",
       "    .dataframe tbody tr th {\n",
       "        vertical-align: top;\n",
       "    }\n",
       "\n",
       "    .dataframe thead th {\n",
       "        text-align: right;\n",
       "    }\n",
       "</style>\n",
       "<table border=\"1\" class=\"dataframe\">\n",
       "  <thead>\n",
       "    <tr style=\"text-align: right;\">\n",
       "      <th></th>\n",
       "      <th>vidid</th>\n",
       "      <th>views</th>\n",
       "      <th>likes</th>\n",
       "      <th>dislikes</th>\n",
       "      <th>comment</th>\n",
       "      <th>published</th>\n",
       "      <th>duration</th>\n",
       "      <th>category</th>\n",
       "    </tr>\n",
       "  </thead>\n",
       "  <tbody>\n",
       "    <tr>\n",
       "      <td>0</td>\n",
       "      <td>231</td>\n",
       "      <td>440238</td>\n",
       "      <td>6153</td>\n",
       "      <td>218</td>\n",
       "      <td>1377</td>\n",
       "      <td>2053</td>\n",
       "      <td>449</td>\n",
       "      <td>2</td>\n",
       "    </tr>\n",
       "    <tr>\n",
       "      <td>1</td>\n",
       "      <td>3444</td>\n",
       "      <td>1040132</td>\n",
       "      <td>8171</td>\n",
       "      <td>340</td>\n",
       "      <td>1047</td>\n",
       "      <td>1825</td>\n",
       "      <td>389</td>\n",
       "      <td>6</td>\n",
       "    </tr>\n",
       "    <tr>\n",
       "      <td>2</td>\n",
       "      <td>1593</td>\n",
       "      <td>28534</td>\n",
       "      <td>31</td>\n",
       "      <td>11</td>\n",
       "      <td>1</td>\n",
       "      <td>1009</td>\n",
       "      <td>2274</td>\n",
       "      <td>4</td>\n",
       "    </tr>\n",
       "    <tr>\n",
       "      <td>3</td>\n",
       "      <td>3775</td>\n",
       "      <td>1316715</td>\n",
       "      <td>2284</td>\n",
       "      <td>250</td>\n",
       "      <td>274</td>\n",
       "      <td>116</td>\n",
       "      <td>595</td>\n",
       "      <td>7</td>\n",
       "    </tr>\n",
       "    <tr>\n",
       "      <td>4</td>\n",
       "      <td>7644</td>\n",
       "      <td>1893173</td>\n",
       "      <td>2519</td>\n",
       "      <td>225</td>\n",
       "      <td>116</td>\n",
       "      <td>1892</td>\n",
       "      <td>188</td>\n",
       "      <td>2</td>\n",
       "    </tr>\n",
       "  </tbody>\n",
       "</table>\n",
       "</div>"
      ],
      "text/plain": [
       "   vidid    views  likes  dislikes  comment  published  duration  category\n",
       "0    231   440238   6153       218     1377       2053       449         2\n",
       "1   3444  1040132   8171       340     1047       1825       389         6\n",
       "2   1593    28534     31        11        1       1009      2274         4\n",
       "3   3775  1316715   2284       250      274        116       595         7\n",
       "4   7644  1893173   2519       225      116       1892       188         2"
      ]
     },
     "execution_count": 56,
     "metadata": {},
     "output_type": "execute_result"
    }
   ],
   "source": [
    "#Duration now contains numerical values in terms of number of seconds\n",
    "\n",
    "data_test['duration'] = time_test_1\n",
    "data_test.head()"
   ]
  },
  {
   "cell_type": "code",
   "execution_count": 57,
   "metadata": {},
   "outputs": [
    {
     "data": {
      "text/html": [
       "<div>\n",
       "<style scoped>\n",
       "    .dataframe tbody tr th:only-of-type {\n",
       "        vertical-align: middle;\n",
       "    }\n",
       "\n",
       "    .dataframe tbody tr th {\n",
       "        vertical-align: top;\n",
       "    }\n",
       "\n",
       "    .dataframe thead th {\n",
       "        text-align: right;\n",
       "    }\n",
       "</style>\n",
       "<table border=\"1\" class=\"dataframe\">\n",
       "  <thead>\n",
       "    <tr style=\"text-align: right;\">\n",
       "      <th></th>\n",
       "      <th>vidid</th>\n",
       "      <th>views</th>\n",
       "      <th>likes</th>\n",
       "      <th>dislikes</th>\n",
       "      <th>comment</th>\n",
       "      <th>published</th>\n",
       "      <th>duration</th>\n",
       "      <th>category</th>\n",
       "    </tr>\n",
       "  </thead>\n",
       "  <tbody>\n",
       "    <tr>\n",
       "      <td>count</td>\n",
       "      <td>8549.000000</td>\n",
       "      <td>8.549000e+03</td>\n",
       "      <td>8549.000000</td>\n",
       "      <td>8549.000000</td>\n",
       "      <td>8549.000000</td>\n",
       "      <td>8549.000000</td>\n",
       "      <td>8549.000000</td>\n",
       "      <td>8549.000000</td>\n",
       "    </tr>\n",
       "    <tr>\n",
       "      <td>mean</td>\n",
       "      <td>4274.000000</td>\n",
       "      <td>7.586353e+05</td>\n",
       "      <td>2923.643701</td>\n",
       "      <td>262.876126</td>\n",
       "      <td>472.864078</td>\n",
       "      <td>1306.212539</td>\n",
       "      <td>1069.782548</td>\n",
       "      <td>4.611767</td>\n",
       "    </tr>\n",
       "    <tr>\n",
       "      <td>std</td>\n",
       "      <td>2468.028059</td>\n",
       "      <td>3.730342e+06</td>\n",
       "      <td>10012.249373</td>\n",
       "      <td>1052.373655</td>\n",
       "      <td>2115.437482</td>\n",
       "      <td>543.152119</td>\n",
       "      <td>2485.572760</td>\n",
       "      <td>1.566363</td>\n",
       "    </tr>\n",
       "    <tr>\n",
       "      <td>min</td>\n",
       "      <td>0.000000</td>\n",
       "      <td>2.700000e+01</td>\n",
       "      <td>0.000000</td>\n",
       "      <td>0.000000</td>\n",
       "      <td>0.000000</td>\n",
       "      <td>0.000000</td>\n",
       "      <td>5.000000</td>\n",
       "      <td>1.000000</td>\n",
       "    </tr>\n",
       "    <tr>\n",
       "      <td>25%</td>\n",
       "      <td>2137.000000</td>\n",
       "      <td>3.138000e+04</td>\n",
       "      <td>87.000000</td>\n",
       "      <td>7.000000</td>\n",
       "      <td>8.000000</td>\n",
       "      <td>891.000000</td>\n",
       "      <td>191.000000</td>\n",
       "      <td>4.000000</td>\n",
       "    </tr>\n",
       "    <tr>\n",
       "      <td>50%</td>\n",
       "      <td>4274.000000</td>\n",
       "      <td>1.575880e+05</td>\n",
       "      <td>446.000000</td>\n",
       "      <td>38.000000</td>\n",
       "      <td>47.000000</td>\n",
       "      <td>1435.000000</td>\n",
       "      <td>333.000000</td>\n",
       "      <td>4.000000</td>\n",
       "    </tr>\n",
       "    <tr>\n",
       "      <td>75%</td>\n",
       "      <td>6411.000000</td>\n",
       "      <td>5.913440e+05</td>\n",
       "      <td>1900.000000</td>\n",
       "      <td>166.000000</td>\n",
       "      <td>229.000000</td>\n",
       "      <td>1800.000000</td>\n",
       "      <td>702.000000</td>\n",
       "      <td>6.000000</td>\n",
       "    </tr>\n",
       "    <tr>\n",
       "      <td>max</td>\n",
       "      <td>8548.000000</td>\n",
       "      <td>2.251478e+08</td>\n",
       "      <td>320072.000000</td>\n",
       "      <td>36023.000000</td>\n",
       "      <td>85250.000000</td>\n",
       "      <td>2105.000000</td>\n",
       "      <td>41326.000000</td>\n",
       "      <td>8.000000</td>\n",
       "    </tr>\n",
       "  </tbody>\n",
       "</table>\n",
       "</div>"
      ],
      "text/plain": [
       "             vidid         views          likes      dislikes       comment  \\\n",
       "count  8549.000000  8.549000e+03    8549.000000   8549.000000   8549.000000   \n",
       "mean   4274.000000  7.586353e+05    2923.643701    262.876126    472.864078   \n",
       "std    2468.028059  3.730342e+06   10012.249373   1052.373655   2115.437482   \n",
       "min       0.000000  2.700000e+01       0.000000      0.000000      0.000000   \n",
       "25%    2137.000000  3.138000e+04      87.000000      7.000000      8.000000   \n",
       "50%    4274.000000  1.575880e+05     446.000000     38.000000     47.000000   \n",
       "75%    6411.000000  5.913440e+05    1900.000000    166.000000    229.000000   \n",
       "max    8548.000000  2.251478e+08  320072.000000  36023.000000  85250.000000   \n",
       "\n",
       "         published      duration     category  \n",
       "count  8549.000000   8549.000000  8549.000000  \n",
       "mean   1306.212539   1069.782548     4.611767  \n",
       "std     543.152119   2485.572760     1.566363  \n",
       "min       0.000000      5.000000     1.000000  \n",
       "25%     891.000000    191.000000     4.000000  \n",
       "50%    1435.000000    333.000000     4.000000  \n",
       "75%    1800.000000    702.000000     6.000000  \n",
       "max    2105.000000  41326.000000     8.000000  "
      ]
     },
     "execution_count": 57,
     "metadata": {},
     "output_type": "execute_result"
    }
   ],
   "source": [
    "data_test.describe()"
   ]
  },
  {
   "cell_type": "markdown",
   "metadata": {},
   "source": [
    "### Data Visualisation"
   ]
  },
  {
   "cell_type": "code",
   "execution_count": 58,
   "metadata": {},
   "outputs": [
    {
     "data": {
      "image/png": "[encoded data removed]",
      "text/plain": [
       "<Figure size 432x288 with 1 Axes>"
      ]
     },
     "metadata": {
      "needs_background": "light"
     },
     "output_type": "display_data"
    }
   ],
   "source": [
    "ax_2 = sns.boxplot(x=data_test[\"likes\"])"
   ]
  },
  {
   "cell_type": "code",
   "execution_count": 59,
   "metadata": {},
   "outputs": [
    {
     "data": {
      "image/png": "[encoded data removed]",
      "text/plain": [
       "<Figure size 432x288 with 1 Axes>"
      ]
     },
     "metadata": {
      "needs_background": "light"
     },
     "output_type": "display_data"
    }
   ],
   "source": [
    "ax_3 = sns.boxplot(x=data_test[\"dislikes\"])"
   ]
  },
  {
   "cell_type": "code",
   "execution_count": 60,
   "metadata": {},
   "outputs": [
    {
     "data": {
      "image/png": "[encoded data removed]",
      "text/plain": [
       "<Figure size 432x288 with 1 Axes>"
      ]
     },
     "metadata": {
      "needs_background": "light"
     },
     "output_type": "display_data"
    }
   ],
   "source": [
    "ax_4 = sns.boxplot(x=data_test[\"comment\"])"
   ]
  },
  {
   "cell_type": "code",
   "execution_count": 61,
   "metadata": {},
   "outputs": [
    {
     "data": {
      "image/png": "[encoded data removed]",
      "text/plain": [
       "<Figure size 432x288 with 1 Axes>"
      ]
     },
     "metadata": {
      "needs_background": "light"
     },
     "output_type": "display_data"
    }
   ],
   "source": [
    "ax_5 = sns.boxplot(x=data_test[\"duration\"])"
   ]
  },
  {
   "cell_type": "code",
   "execution_count": 62,
   "metadata": {},
   "outputs": [
    {
     "data": {
      "image/png": "[encoded data removed]",
      "text/plain": [
       "<Figure size 432x288 with 1 Axes>"
      ]
     },
     "metadata": {
      "needs_background": "light"
     },
     "output_type": "display_data"
    }
   ],
   "source": [
    "ax_6 = sns.boxplot(x=data_test[\"views\"])"
   ]
  },
  {
   "cell_type": "code",
   "execution_count": 63,
   "metadata": {},
   "outputs": [
    {
     "data": {
      "image/png": "[encoded data removed]",
      "text/plain": [
       "<Figure size 792x648 with 2 Axes>"
      ]
     },
     "metadata": {
      "needs_background": "light"
     },
     "output_type": "display_data"
    }
   ],
   "source": [
    "#Create heatmap to check correlation between attributes\n",
    "\n",
    "f_, ax_ = plt.subplots(figsize=(11,9))\n",
    "corr_ = data_test.corr()\n",
    "sns.heatmap(corr_, mask=np.zeros_like(corr_, dtype=np.bool), cmap=sns.diverging_palette(220,10,as_cmap=True), square=True, ax=ax_, annot=True)\n",
    "plt.show()"
   ]
  },
  {
   "cell_type": "markdown",
   "metadata": {},
   "source": [
    "### Removing Outliers"
   ]
  },
  {
   "cell_type": "code",
   "execution_count": 64,
   "metadata": {},
   "outputs": [
    {
     "name": "stdout",
     "output_type": "stream",
     "text": [
      "vidid          4274.0\n",
      "views        559964.0\n",
      "likes          1813.0\n",
      "dislikes        159.0\n",
      "comment         221.0\n",
      "published       909.0\n",
      "duration        511.0\n",
      "category          2.0\n",
      "dtype: float64\n"
     ]
    }
   ],
   "source": [
    "#Finding the Inter Quartile Range\n",
    "\n",
    "q1_ = data_test.quantile(0.25)\n",
    "q3_ = data_test.quantile(0.75)\n",
    "\n",
    "IQR_ = q3_-q1_\n",
    "\n",
    "print(IQR_)"
   ]
  },
  {
   "cell_type": "code",
   "execution_count": 65,
   "metadata": {},
   "outputs": [
    {
     "name": "stdout",
     "output_type": "stream",
     "text": [
      "vidid           0\n",
      "views         936\n",
      "likes        1176\n",
      "dislikes     1133\n",
      "comment      1283\n",
      "published       0\n",
      "duration     1254\n",
      "category        0\n",
      "dtype: int64\n"
     ]
    }
   ],
   "source": [
    "#Sum of outliers for each attribute\n",
    "\n",
    "print(((data_test < (q1_ - 1.5 * IQR_)) | (data_test > (q3_ + 1.5 * IQR_))).sum())"
   ]
  },
  {
   "cell_type": "code",
   "execution_count": 66,
   "metadata": {},
   "outputs": [
    {
     "data": {
      "text/html": [
       "<div>\n",
       "<style scoped>\n",
       "    .dataframe tbody tr th:only-of-type {\n",
       "        vertical-align: middle;\n",
       "    }\n",
       "\n",
       "    .dataframe tbody tr th {\n",
       "        vertical-align: top;\n",
       "    }\n",
       "\n",
       "    .dataframe thead th {\n",
       "        text-align: right;\n",
       "    }\n",
       "</style>\n",
       "<table border=\"1\" class=\"dataframe\">\n",
       "  <thead>\n",
       "    <tr style=\"text-align: right;\">\n",
       "      <th></th>\n",
       "      <th>vidid</th>\n",
       "      <th>views</th>\n",
       "      <th>likes</th>\n",
       "      <th>dislikes</th>\n",
       "      <th>comment</th>\n",
       "      <th>published</th>\n",
       "      <th>duration</th>\n",
       "      <th>category</th>\n",
       "    </tr>\n",
       "  </thead>\n",
       "  <tbody>\n",
       "    <tr>\n",
       "      <td>3</td>\n",
       "      <td>3775</td>\n",
       "      <td>1316715</td>\n",
       "      <td>2284</td>\n",
       "      <td>250</td>\n",
       "      <td>274</td>\n",
       "      <td>116</td>\n",
       "      <td>595</td>\n",
       "      <td>7</td>\n",
       "    </tr>\n",
       "    <tr>\n",
       "      <td>6</td>\n",
       "      <td>7531</td>\n",
       "      <td>12921</td>\n",
       "      <td>169</td>\n",
       "      <td>3</td>\n",
       "      <td>73</td>\n",
       "      <td>1060</td>\n",
       "      <td>604</td>\n",
       "      <td>4</td>\n",
       "    </tr>\n",
       "    <tr>\n",
       "      <td>7</td>\n",
       "      <td>3112</td>\n",
       "      <td>4502</td>\n",
       "      <td>65</td>\n",
       "      <td>2</td>\n",
       "      <td>8</td>\n",
       "      <td>1840</td>\n",
       "      <td>155</td>\n",
       "      <td>6</td>\n",
       "    </tr>\n",
       "    <tr>\n",
       "      <td>8</td>\n",
       "      <td>1835</td>\n",
       "      <td>662956</td>\n",
       "      <td>1841</td>\n",
       "      <td>321</td>\n",
       "      <td>219</td>\n",
       "      <td>955</td>\n",
       "      <td>837</td>\n",
       "      <td>4</td>\n",
       "    </tr>\n",
       "    <tr>\n",
       "      <td>12</td>\n",
       "      <td>5107</td>\n",
       "      <td>10954</td>\n",
       "      <td>243</td>\n",
       "      <td>9</td>\n",
       "      <td>3</td>\n",
       "      <td>1793</td>\n",
       "      <td>104</td>\n",
       "      <td>7</td>\n",
       "    </tr>\n",
       "  </tbody>\n",
       "</table>\n",
       "</div>"
      ],
      "text/plain": [
       "    vidid    views  likes  dislikes  comment  published  duration  category\n",
       "3    3775  1316715   2284       250      274        116       595         7\n",
       "6    7531    12921    169         3       73       1060       604         4\n",
       "7    3112     4502     65         2        8       1840       155         6\n",
       "8    1835   662956   1841       321      219        955       837         4\n",
       "12   5107    10954    243         9        3       1793       104         7"
      ]
     },
     "execution_count": 66,
     "metadata": {},
     "output_type": "execute_result"
    }
   ],
   "source": [
    "#Removing outliers from every attribute\n",
    "\n",
    "x1_ = data_test[~((data_test < (q1_ - 1.5 * IQR_)) |(data_test > (q3_ + 1.5 * IQR_))).any(axis=1)]\n",
    "x1_.head()"
   ]
  },
  {
   "cell_type": "code",
   "execution_count": 67,
   "metadata": {},
   "outputs": [
    {
     "data": {
      "text/html": [
       "<div>\n",
       "<style scoped>\n",
       "    .dataframe tbody tr th:only-of-type {\n",
       "        vertical-align: middle;\n",
       "    }\n",
       "\n",
       "    .dataframe tbody tr th {\n",
       "        vertical-align: top;\n",
       "    }\n",
       "\n",
       "    .dataframe thead th {\n",
       "        text-align: right;\n",
       "    }\n",
       "</style>\n",
       "<table border=\"1\" class=\"dataframe\">\n",
       "  <thead>\n",
       "    <tr style=\"text-align: right;\">\n",
       "      <th></th>\n",
       "      <th>vidid</th>\n",
       "      <th>views</th>\n",
       "      <th>likes</th>\n",
       "      <th>dislikes</th>\n",
       "      <th>comment</th>\n",
       "      <th>published</th>\n",
       "      <th>duration</th>\n",
       "      <th>category</th>\n",
       "    </tr>\n",
       "  </thead>\n",
       "  <tbody>\n",
       "    <tr>\n",
       "      <td>count</td>\n",
       "      <td>5553.000000</td>\n",
       "      <td>5.553000e+03</td>\n",
       "      <td>5553.000000</td>\n",
       "      <td>5553.000000</td>\n",
       "      <td>5553.000000</td>\n",
       "      <td>5553.000000</td>\n",
       "      <td>5553.000000</td>\n",
       "      <td>5553.000000</td>\n",
       "    </tr>\n",
       "    <tr>\n",
       "      <td>mean</td>\n",
       "      <td>4443.279849</td>\n",
       "      <td>1.848806e+05</td>\n",
       "      <td>555.790023</td>\n",
       "      <td>44.905276</td>\n",
       "      <td>64.909238</td>\n",
       "      <td>1245.644877</td>\n",
       "      <td>362.951378</td>\n",
       "      <td>4.622366</td>\n",
       "    </tr>\n",
       "    <tr>\n",
       "      <td>std</td>\n",
       "      <td>2488.989586</td>\n",
       "      <td>2.656912e+05</td>\n",
       "      <td>802.153596</td>\n",
       "      <td>69.664599</td>\n",
       "      <td>100.833531</td>\n",
       "      <td>565.549119</td>\n",
       "      <td>297.080210</td>\n",
       "      <td>1.554318</td>\n",
       "    </tr>\n",
       "    <tr>\n",
       "      <td>min</td>\n",
       "      <td>0.000000</td>\n",
       "      <td>2.700000e+01</td>\n",
       "      <td>0.000000</td>\n",
       "      <td>0.000000</td>\n",
       "      <td>0.000000</td>\n",
       "      <td>0.000000</td>\n",
       "      <td>7.000000</td>\n",
       "      <td>1.000000</td>\n",
       "    </tr>\n",
       "    <tr>\n",
       "      <td>25%</td>\n",
       "      <td>2285.000000</td>\n",
       "      <td>1.443600e+04</td>\n",
       "      <td>43.000000</td>\n",
       "      <td>3.000000</td>\n",
       "      <td>4.000000</td>\n",
       "      <td>815.000000</td>\n",
       "      <td>153.000000</td>\n",
       "      <td>4.000000</td>\n",
       "    </tr>\n",
       "    <tr>\n",
       "      <td>50%</td>\n",
       "      <td>4468.000000</td>\n",
       "      <td>7.175200e+04</td>\n",
       "      <td>210.000000</td>\n",
       "      <td>15.000000</td>\n",
       "      <td>20.000000</td>\n",
       "      <td>1340.000000</td>\n",
       "      <td>273.000000</td>\n",
       "      <td>4.000000</td>\n",
       "    </tr>\n",
       "    <tr>\n",
       "      <td>75%</td>\n",
       "      <td>6644.000000</td>\n",
       "      <td>2.318200e+05</td>\n",
       "      <td>719.000000</td>\n",
       "      <td>55.000000</td>\n",
       "      <td>80.000000</td>\n",
       "      <td>1786.000000</td>\n",
       "      <td>501.000000</td>\n",
       "      <td>6.000000</td>\n",
       "    </tr>\n",
       "    <tr>\n",
       "      <td>max</td>\n",
       "      <td>8548.000000</td>\n",
       "      <td>1.427767e+06</td>\n",
       "      <td>4554.000000</td>\n",
       "      <td>404.000000</td>\n",
       "      <td>560.000000</td>\n",
       "      <td>2104.000000</td>\n",
       "      <td>1466.000000</td>\n",
       "      <td>8.000000</td>\n",
       "    </tr>\n",
       "  </tbody>\n",
       "</table>\n",
       "</div>"
      ],
      "text/plain": [
       "             vidid         views        likes     dislikes      comment  \\\n",
       "count  5553.000000  5.553000e+03  5553.000000  5553.000000  5553.000000   \n",
       "mean   4443.279849  1.848806e+05   555.790023    44.905276    64.909238   \n",
       "std    2488.989586  2.656912e+05   802.153596    69.664599   100.833531   \n",
       "min       0.000000  2.700000e+01     0.000000     0.000000     0.000000   \n",
       "25%    2285.000000  1.443600e+04    43.000000     3.000000     4.000000   \n",
       "50%    4468.000000  7.175200e+04   210.000000    15.000000    20.000000   \n",
       "75%    6644.000000  2.318200e+05   719.000000    55.000000    80.000000   \n",
       "max    8548.000000  1.427767e+06  4554.000000   404.000000   560.000000   \n",
       "\n",
       "         published     duration     category  \n",
       "count  5553.000000  5553.000000  5553.000000  \n",
       "mean   1245.644877   362.951378     4.622366  \n",
       "std     565.549119   297.080210     1.554318  \n",
       "min       0.000000     7.000000     1.000000  \n",
       "25%     815.000000   153.000000     4.000000  \n",
       "50%    1340.000000   273.000000     4.000000  \n",
       "75%    1786.000000   501.000000     6.000000  \n",
       "max    2104.000000  1466.000000     8.000000  "
      ]
     },
     "execution_count": 67,
     "metadata": {},
     "output_type": "execute_result"
    }
   ],
   "source": [
    "x1_.describe()"
   ]
  },
  {
   "cell_type": "markdown",
   "metadata": {},
   "source": [
    "### Load Model"
   ]
  },
  {
   "cell_type": "code",
   "execution_count": 68,
   "metadata": {},
   "outputs": [
    {
     "data": {
      "text/plain": [
       "RandomForestRegressor(bootstrap=True, criterion='mse', max_depth=25,\n",
       "                      max_features='auto', max_leaf_nodes=None,\n",
       "                      min_impurity_decrease=0.0, min_impurity_split=None,\n",
       "                      min_samples_leaf=2, min_samples_split=15,\n",
       "                      min_weight_fraction_leaf=0.0, n_estimators=200,\n",
       "                      n_jobs=None, oob_score=False, random_state=None,\n",
       "                      verbose=0, warm_start=False)"
      ]
     },
     "execution_count": 68,
     "metadata": {},
     "output_type": "execute_result"
    }
   ],
   "source": [
    "rf_model = joblib.load(\"RF_youtubeadview.pkl\")\n",
    "rf_model"
   ]
  },
  {
   "cell_type": "code",
   "execution_count": 69,
   "metadata": {},
   "outputs": [],
   "source": [
    "x1_=x1_.drop([\"vidid\"],axis=1)"
   ]
  },
  {
   "cell_type": "markdown",
   "metadata": {},
   "source": [
    " ###  Normalise Data and Predict Adview Value"
   ]
  },
  {
   "cell_type": "code",
   "execution_count": 70,
   "metadata": {},
   "outputs": [
    {
     "data": {
      "text/plain": [
       "array([[0.92221833, 0.50153711, 0.61881188, ..., 0.05513308, 0.40301576,\n",
       "        0.85714286],\n",
       "       [0.00903106, 0.03711023, 0.00742574, ..., 0.50380228, 0.40918437,\n",
       "        0.42857143],\n",
       "       [0.00313432, 0.01427317, 0.0049505 , ..., 0.87452471, 0.10143934,\n",
       "        0.71428571],\n",
       "       ...,\n",
       "       [0.07786992, 0.10342556, 0.03465347, ..., 0.10979087, 0.12816998,\n",
       "        0.28571429],\n",
       "       [0.50067379, 0.35990338, 0.37376238, ..., 0.82129278, 0.12885538,\n",
       "        0.42857143],\n",
       "       [0.00369115, 0.00263505, 0.00247525, ..., 0.9486692 , 0.41603838,\n",
       "        0.42857143]])"
      ]
     },
     "execution_count": 70,
     "metadata": {},
     "output_type": "execute_result"
    }
   ],
   "source": [
    "scaler = MinMaxScaler()\n",
    "x_test_ = scaler.fit_transform(x1_)\n",
    "x_test_"
   ]
  },
  {
   "cell_type": "code",
   "execution_count": 71,
   "metadata": {},
   "outputs": [],
   "source": [
    "predicted_val = rf_model.predict(x_test_)"
   ]
  },
  {
   "cell_type": "code",
   "execution_count": 72,
   "metadata": {},
   "outputs": [
    {
     "data": {
      "text/plain": [
       "array([4.69778268, 1.33861429, 1.98793923, ..., 3.23342702, 2.08019304,\n",
       "       5.15371741])"
      ]
     },
     "execution_count": 72,
     "metadata": {},
     "output_type": "execute_result"
    }
   ],
   "source": [
    "predicted_val"
   ]
  },
  {
   "cell_type": "code",
   "execution_count": 73,
   "metadata": {},
   "outputs": [
    {
     "data": {
      "text/plain": [
       "(5553,)"
      ]
     },
     "execution_count": 73,
     "metadata": {},
     "output_type": "execute_result"
    }
   ],
   "source": [
    "predicted_val.shape"
   ]
  },
  {
   "cell_type": "markdown",
   "metadata": {},
   "source": [
    "### Save Predicted Adviews as csv file"
   ]
  },
  {
   "cell_type": "code",
   "execution_count": 74,
   "metadata": {},
   "outputs": [],
   "source": [
    "np.savetxt(\"Predictions.csv\", predicted_val, delimiter=\",\")"
   ]
  },
  {
   "cell_type": "code",
   "execution_count": null,
   "metadata": {},
   "outputs": [],
   "source": []
  }
 ],
 "metadata": {
  "kernelspec": {
   "display_name": "Python 3",
   "language": "python",
   "name": "python3"
  },
  "language_info": {
   "codemirror_mode": {
    "name": "ipython",
    "version": 3
   },
   "file_extension": ".py",
   "mimetype": "text/x-python",
   "name": "python",
   "nbconvert_exporter": "python",
   "pygments_lexer": "ipython3",
   "version": "3.7.4"
  }
 },
 "nbformat": 4,
 "nbformat_minor": 2
}
